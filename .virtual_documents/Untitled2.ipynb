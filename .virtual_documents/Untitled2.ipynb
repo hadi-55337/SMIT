price =  10000
membership_check = input("Änswer wheter you are a member or not answer in (Y/N)")

if membership_check.startswith("Y") or membership_check.startswith("y"):
    print(f"The discount  you get is ${price*.80}")
elif membership_check.startswith("N) or membership_check.startswith("n"):
     print(f"The discount  you get is ${price*.95}")
                    
else:
    print("Enter a valid response")



