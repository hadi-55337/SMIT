{
 "cells": [
  {
   "cell_type": "code",
   "execution_count": 1,
   "id": "72730da9-d249-44d6-befe-8c4f9441aad9",
   "metadata": {},
   "outputs": [
    {
     "name": "stdout",
     "output_type": "stream",
     "text": [
      "Welcome to the Banking System!\n"
     ]
    },
    {
     "name": "stdin",
     "output_type": "stream",
     "text": [
      "Enter your name to create an account:  hadi\n"
     ]
    },
    {
     "name": "stdout",
     "output_type": "stream",
     "text": [
      "Account for hadi created with balance $0.0.\n",
      "\n",
      "Options:\n",
      "1. Deposit Money\n",
      "2. Withdraw Money\n",
      "3. Check Balance\n",
      "4. Print Statement\n",
      "5. Exit\n"
     ]
    },
    {
     "name": "stdin",
     "output_type": "stream",
     "text": [
      "Select an option:  3\n"
     ]
    },
    {
     "name": "stdout",
     "output_type": "stream",
     "text": [
      "hadi's current balance: $0.0\n",
      "\n",
      "Options:\n",
      "1. Deposit Money\n",
      "2. Withdraw Money\n",
      "3. Check Balance\n",
      "4. Print Statement\n",
      "5. Exit\n"
     ]
    },
    {
     "name": "stdin",
     "output_type": "stream",
     "text": [
      "Select an option:  4\n"
     ]
    },
    {
     "name": "stdout",
     "output_type": "stream",
     "text": [
      "Account statement for hadi:\n",
      "No transactions found.\n",
      "\n",
      "Options:\n",
      "1. Deposit Money\n",
      "2. Withdraw Money\n",
      "3. Check Balance\n",
      "4. Print Statement\n",
      "5. Exit\n"
     ]
    },
    {
     "name": "stdin",
     "output_type": "stream",
     "text": [
      "Select an option:  5\n"
     ]
    },
    {
     "name": "stdout",
     "output_type": "stream",
     "text": [
      "Thank you for using the Banking System. Goodbye!\n"
     ]
    }
   ],
   "source": [
    "### Banking System Assignment in Jupyter Notebook\n",
    "\n",
    "# Import necessary modules\n",
    "import os\n",
    "\n",
    "# File path for storing transactions\n",
    "TRANSACTION_FILE = \"transactions.txt\"\n",
    "\n",
    "# Helper function to read transactions from file\n",
    "def read_transactions():\n",
    "    if not os.path.exists(TRANSACTION_FILE):\n",
    "        return []\n",
    "    with open(TRANSACTION_FILE, \"r\") as file:\n",
    "        transactions = [line.strip() for line in file.readlines()]\n",
    "    return transactions\n",
    "\n",
    "# Helper function to write transactions to file\n",
    "def write_transaction(transaction):\n",
    "    with open(TRANSACTION_FILE, \"a\") as file:\n",
    "        file.write(transaction + \"\\n\")\n",
    "\n",
    "# Step 1: Create Account\n",
    "def create_account(name):\n",
    "    return {\n",
    "        \"name\": name,\n",
    "        \"balance\": 0.0,\n",
    "        \"transactions\": []\n",
    "    }\n",
    "\n",
    "# Step 2: Deposit Money\n",
    "def deposit(account, amount):\n",
    "    if amount <= 0:\n",
    "        print(\"Error: Deposit amount must be positive.\")\n",
    "        return account\n",
    "\n",
    "    account[\"balance\"] += amount\n",
    "    transaction = f\"Deposit: ${amount}. New Balance: ${account['balance']}\"\n",
    "    account[\"transactions\"].append(transaction)\n",
    "    write_transaction(transaction)\n",
    "    print(f\"{account['name']} deposited ${amount}. New balance: ${account['balance']}.\")\n",
    "    return account\n",
    "\n",
    "# Step 3: Withdraw Money\n",
    "def withdraw(account, amount):\n",
    "    if amount <= 0:\n",
    "        print(\"Error: Withdrawal amount must be positive.\")\n",
    "        return account\n",
    "\n",
    "    if amount > account[\"balance\"]:\n",
    "        print(\"Error: Insufficient balance.\")\n",
    "        return account\n",
    "\n",
    "    account[\"balance\"] -= amount\n",
    "    transaction = f\"Withdrawal: ${amount}. New Balance: ${account['balance']}\"\n",
    "    account[\"transactions\"].append(transaction)\n",
    "    write_transaction(transaction)\n",
    "    print(f\"{account['name']} withdrew ${amount}. New balance: ${account['balance']}.\")\n",
    "    return account\n",
    "\n",
    "# Step 4: Check Balance\n",
    "def check_balance(account):\n",
    "    print(f\"{account['name']}'s current balance: ${account['balance']}\")\n",
    "    return account[\"balance\"]\n",
    "\n",
    "# Step 5: Print Statement\n",
    "def print_statement(account):\n",
    "    print(f\"Account statement for {account['name']}:\")\n",
    "    if not account[\"transactions\"]:\n",
    "        print(\"No transactions found.\")\n",
    "        return\n",
    "\n",
    "    for transaction in account[\"transactions\"]:\n",
    "        print(transaction)\n",
    "\n",
    "# Main Workflow\n",
    "def main():\n",
    "    print(\"Welcome to the Banking System!\")\n",
    "\n",
    "    # Initialize the account\n",
    "    account_name = input(\"Enter your name to create an account: \")\n",
    "    account = create_account(account_name)\n",
    "    print(f\"Account for {account['name']} created with balance ${account['balance']}.\")\n",
    "\n",
    "    while True:\n",
    "        print(\"\\nOptions:\")\n",
    "        print(\"1. Deposit Money\")\n",
    "        print(\"2. Withdraw Money\")\n",
    "        print(\"3. Check Balance\")\n",
    "        print(\"4. Print Statement\")\n",
    "        print(\"5. Exit\")\n",
    "\n",
    "        choice = input(\"Select an option: \")\n",
    "\n",
    "        if choice == \"1\":\n",
    "            amount = float(input(\"Enter amount to deposit: \"))\n",
    "            account = deposit(account, amount)\n",
    "        elif choice == \"2\":\n",
    "            amount = float(input(\"Enter amount to withdraw: \"))\n",
    "            account = withdraw(account, amount)\n",
    "        elif choice == \"3\":\n",
    "            check_balance(account)\n",
    "        elif choice == \"4\":\n",
    "            print_statement(account)\n",
    "        elif choice == \"5\":\n",
    "            print(\"Thank you for using the Banking System. Goodbye!\")\n",
    "            break\n",
    "        else:\n",
    "            print(\"Invalid option. Please try again.\")\n",
    "\n",
    "# Uncomment this line to run the program in Jupyter Notebook\n",
    "main()\n"
   ]
  },
  {
   "cell_type": "code",
   "execution_count": null,
   "id": "012fdc9c-6ff1-4833-b645-3a943c926fdd",
   "metadata": {},
   "outputs": [],
   "source": []
  }
 ],
 "metadata": {
  "kernelspec": {
   "display_name": "Python 3 (ipykernel)",
   "language": "python",
   "name": "python3"
  },
  "language_info": {
   "codemirror_mode": {
    "name": "ipython",
    "version": 3
   },
   "file_extension": ".py",
   "mimetype": "text/x-python",
   "name": "python",
   "nbconvert_exporter": "python",
   "pygments_lexer": "ipython3",
   "version": "3.12.7"
  }
 },
 "nbformat": 4,
 "nbformat_minor": 5
}
