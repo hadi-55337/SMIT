{
 "cells": [
  {
   "cell_type": "code",
   "execution_count": 41,
   "id": "60bc6d38-ba54-4993-a445-860d88e92093",
   "metadata": {},
   "outputs": [],
   "source": [
    "course = \"muhammad hadi\""
   ]
  },
  {
   "cell_type": "code",
   "execution_count": 42,
   "id": "5d61fa15-c7f6-40e9-8315-82b223da8c7b",
   "metadata": {},
   "outputs": [
    {
     "data": {
      "text/plain": [
       "'muhammad hadi'"
      ]
     },
     "execution_count": 42,
     "metadata": {},
     "output_type": "execute_result"
    }
   ],
   "source": [
    "course"
   ]
  },
  {
   "cell_type": "code",
   "execution_count": 36,
   "id": "78cf1047-f090-417a-b1a8-f374c5df3091",
   "metadata": {},
   "outputs": [
    {
     "name": "stdout",
     "output_type": "stream",
     "text": [
      "<class 'str'>\n"
     ]
    }
   ],
   "source": [
    "print (type(course))"
   ]
  },
  {
   "cell_type": "code",
   "execution_count": 43,
   "id": "a696abbf-c77a-4225-97f2-46341a720266",
   "metadata": {},
   "outputs": [
    {
     "data": {
      "text/plain": [
       "'Muhammad hadi'"
      ]
     },
     "execution_count": 43,
     "metadata": {},
     "output_type": "execute_result"
    }
   ],
   "source": [
    "course.capitalize()"
   ]
  },
  {
   "cell_type": "code",
   "execution_count": 44,
   "id": "1e7c1f5e-c9a2-4ce6-b708-d6651baa1e99",
   "metadata": {},
   "outputs": [
    {
     "data": {
      "text/plain": [
       "'MUHAMMAD HADI'"
      ]
     },
     "execution_count": 44,
     "metadata": {},
     "output_type": "execute_result"
    }
   ],
   "source": [
    "course.upper()"
   ]
  },
  {
   "cell_type": "code",
   "execution_count": 46,
   "id": "608f0bed-0561-44ee-8509-41b7f6f652e1",
   "metadata": {},
   "outputs": [
    {
     "data": {
      "text/plain": [
       "'muhammad hadi'"
      ]
     },
     "execution_count": 46,
     "metadata": {},
     "output_type": "execute_result"
    }
   ],
   "source": [
    "course.lower()"
   ]
  },
  {
   "cell_type": "code",
   "execution_count": 47,
   "id": "e41628cb-d9ff-4fab-b5d6-dc1c4c1f28cf",
   "metadata": {},
   "outputs": [
    {
     "data": {
      "text/plain": [
       "'Muhammad Hadi'"
      ]
     },
     "execution_count": 47,
     "metadata": {},
     "output_type": "execute_result"
    }
   ],
   "source": [
    "course.title()"
   ]
  },
  {
   "cell_type": "code",
   "execution_count": 51,
   "id": "906272e3-0731-4338-a802-eea9b065a0d1",
   "metadata": {},
   "outputs": [
    {
     "data": {
      "text/plain": [
       "3"
      ]
     },
     "execution_count": 51,
     "metadata": {},
     "output_type": "execute_result"
    }
   ],
   "source": [
    "course.count(\"a\")"
   ]
  },
  {
   "cell_type": "code",
   "execution_count": 52,
   "id": "5dbf8a84-a332-4b17-811d-3a5d1462d663",
   "metadata": {},
   "outputs": [
    {
     "data": {
      "text/plain": [
       "2"
      ]
     },
     "execution_count": 52,
     "metadata": {},
     "output_type": "execute_result"
    }
   ],
   "source": [
    "course.count(\"ha\")"
   ]
  },
  {
   "cell_type": "code",
   "execution_count": 53,
   "id": "c562863c-8b6a-490b-9bdf-32e8305e054d",
   "metadata": {},
   "outputs": [
    {
     "data": {
      "text/plain": [
       "'muhammad hadi'"
      ]
     },
     "execution_count": 53,
     "metadata": {},
     "output_type": "execute_result"
    }
   ],
   "source": [
    "course"
   ]
  },
  {
   "cell_type": "code",
   "execution_count": 61,
   "id": "3207d2fb-fbd1-4fbc-bc23-b795c1d8fd18",
   "metadata": {},
   "outputs": [],
   "source": [
    "text = \"Imran Ahmed Khan Niazi is a Pakistani politician and former cricketer who served as the 22nd prime minister of Pakistan\""
   ]
  },
  {
   "cell_type": "code",
   "execution_count": 62,
   "id": "cc5deb42-9ece-4084-9e99-f8631b7e3de2",
   "metadata": {},
   "outputs": [
    {
     "data": {
      "text/plain": [
       "'Imran Ahmed Khan Niazi is a Pakistani politician and former cricketer who served as the 22nd prime minister of Pakistan'"
      ]
     },
     "execution_count": 62,
     "metadata": {},
     "output_type": "execute_result"
    }
   ],
   "source": [
    "text"
   ]
  },
  {
   "cell_type": "code",
   "execution_count": 63,
   "id": "e0a22634-3f13-4e02-9276-9ea8f2af511d",
   "metadata": {},
   "outputs": [
    {
     "data": {
      "text/plain": [
       "False"
      ]
     },
     "execution_count": 63,
     "metadata": {},
     "output_type": "execute_result"
    }
   ],
   "source": [
    "text.endswith(\"P\")"
   ]
  },
  {
   "cell_type": "code",
   "execution_count": 64,
   "id": "e928f045-a3ff-4f5b-890b-d5db46420f40",
   "metadata": {},
   "outputs": [
    {
     "data": {
      "text/plain": [
       "True"
      ]
     },
     "execution_count": 64,
     "metadata": {},
     "output_type": "execute_result"
    }
   ],
   "source": [
    "text.endswith(\"n\")"
   ]
  },
  {
   "cell_type": "code",
   "execution_count": 65,
   "id": "3b683b30-3934-489a-b77d-b219edb4f97a",
   "metadata": {},
   "outputs": [
    {
     "data": {
      "text/plain": [
       "False"
      ]
     },
     "execution_count": 65,
     "metadata": {},
     "output_type": "execute_result"
    }
   ],
   "source": [
    "text.startswith(\"m\")"
   ]
  },
  {
   "cell_type": "code",
   "execution_count": 66,
   "id": "5f41a9c9-f599-4b38-90e0-a8f513faf77d",
   "metadata": {},
   "outputs": [
    {
     "data": {
      "text/plain": [
       "False"
      ]
     },
     "execution_count": 66,
     "metadata": {},
     "output_type": "execute_result"
    }
   ],
   "source": [
    "text.startswith(\"i\")"
   ]
  },
  {
   "cell_type": "code",
   "execution_count": 67,
   "id": "18a340c5-fd9a-4c90-a40b-b6280f1b1e7f",
   "metadata": {},
   "outputs": [
    {
     "data": {
      "text/plain": [
       "True"
      ]
     },
     "execution_count": 67,
     "metadata": {},
     "output_type": "execute_result"
    }
   ],
   "source": [
    "text.startswith(\"I\")"
   ]
  },
  {
   "cell_type": "code",
   "execution_count": null,
   "id": "5c853511-29de-4486-8002-7970119f70fc",
   "metadata": {},
   "outputs": [],
   "source": []
  }
 ],
 "metadata": {
  "kernelspec": {
   "display_name": "Python 3 (ipykernel)",
   "language": "python",
   "name": "python3"
  },
  "language_info": {
   "codemirror_mode": {
    "name": "ipython",
    "version": 3
   },
   "file_extension": ".py",
   "mimetype": "text/x-python",
   "name": "python",
   "nbconvert_exporter": "python",
   "pygments_lexer": "ipython3",
   "version": "3.12.7"
  }
 },
 "nbformat": 4,
 "nbformat_minor": 5
}
