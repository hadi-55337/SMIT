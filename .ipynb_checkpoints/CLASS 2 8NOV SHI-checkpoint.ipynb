{
 "cells": [
  {
   "cell_type": "code",
   "execution_count": 3,
   "id": "a6b46ea8-6e6f-4a3c-baac-418d26cb3db8",
   "metadata": {},
   "outputs": [
    {
     "name": "stdout",
     "output_type": "stream",
     "text": [
      "python programming fundamentals\n"
     ]
    }
   ],
   "source": [
    "print(\"python programming fundamentals\")"
   ]
  },
  {
   "cell_type": "code",
   "execution_count": 4,
   "id": "907febfb-2b17-4859-972f-bfb87c533ed2",
   "metadata": {},
   "outputs": [
    {
     "name": "stdout",
     "output_type": "stream",
     "text": [
      "hello class\n"
     ]
    }
   ],
   "source": [
    "print(\"hello\",\"class\")"
   ]
  },
  {
   "cell_type": "code",
   "execution_count": 5,
   "id": "ca21c6f4-2beb-4671-ac4c-6d3b543156ef",
   "metadata": {},
   "outputs": [
    {
     "name": "stdout",
     "output_type": "stream",
     "text": [
      "100\n"
     ]
    }
   ],
   "source": [
    "print(100)"
   ]
  },
  {
   "cell_type": "code",
   "execution_count": 6,
   "id": "69eab811-49e2-452d-adc0-5e751eb48f53",
   "metadata": {},
   "outputs": [
    {
     "name": "stdout",
     "output_type": "stream",
     "text": [
      "100 200 300 400\n"
     ]
    }
   ],
   "source": [
    "print(100,200,300,400)"
   ]
  },
  {
   "cell_type": "code",
   "execution_count": 8,
   "id": "89f23810-9de5-473d-a74a-f287deb1db0a",
   "metadata": {},
   "outputs": [
    {
     "name": "stdout",
     "output_type": "stream",
     "text": [
      "100 i am text\n"
     ]
    }
   ],
   "source": [
    "print(100, \"i am text\")"
   ]
  },
  {
   "cell_type": "code",
   "execution_count": 10,
   "id": "50172058-6432-4f7d-ac8d-1691fb974110",
   "metadata": {},
   "outputs": [
    {
     "name": "stdout",
     "output_type": "stream",
     "text": [
      "100####200####300####400\n"
     ]
    }
   ],
   "source": [
    "print(100,200,300,400,sep=\"####\")"
   ]
  },
  {
   "cell_type": "markdown",
   "id": "eb58c988-a17d-4b38-ba2c-82a7593932f8",
   "metadata": {},
   "source": [
    "# DATA\n",
    "    - Numbers\n",
    "    - Text"
   ]
  },
  {
   "cell_type": "markdown",
   "id": "59703a0f-26c9-435d-9326-6c8f0329bc6f",
   "metadata": {},
   "source": [
    "# data types\n",
    "      -NUMBER\n",
    "         -whole numbers : integers : int\n",
    "         -decimal numbers : floats : float\n",
    "\n",
    "      -TEXT\n",
    "         -\"character/word/sentence/paragraph\": strings : str\n",
    "      -BOOLEAN :TRUE/FALSE \": bool (true/false\n",
    "      "
   ]
  },
  {
   "cell_type": "code",
   "execution_count": 11,
   "id": "fe4033bf-f1cf-49e6-aa18-2f2547103188",
   "metadata": {},
   "outputs": [
    {
     "name": "stdout",
     "output_type": "stream",
     "text": [
      "python programming fundamentals\n"
     ]
    }
   ],
   "source": [
    "print(\"python programming fundamentals\")"
   ]
  },
  {
   "cell_type": "code",
   "execution_count": 12,
   "id": "40973520-a8c6-4216-b4bd-bee2c01e9b4f",
   "metadata": {},
   "outputs": [
    {
     "name": "stdout",
     "output_type": "stream",
     "text": [
      "100\n"
     ]
    }
   ],
   "source": [
    "print(100)"
   ]
  },
  {
   "cell_type": "code",
   "execution_count": 13,
   "id": "14643a93-ce18-4387-a8b2-bce0c280a047",
   "metadata": {},
   "outputs": [
    {
     "name": "stdout",
     "output_type": "stream",
     "text": [
      "23.6\n"
     ]
    }
   ],
   "source": [
    "print(23.6)"
   ]
  },
  {
   "cell_type": "code",
   "execution_count": 14,
   "id": "0cee963f-c5ec-4bb7-b776-6f520c476710",
   "metadata": {},
   "outputs": [
    {
     "name": "stdout",
     "output_type": "stream",
     "text": [
      "200\n"
     ]
    }
   ],
   "source": [
    "print(200)"
   ]
  },
  {
   "cell_type": "code",
   "execution_count": 15,
   "id": "5873ec82-cd03-4bb8-b7a5-11b5355d5cbd",
   "metadata": {},
   "outputs": [
    {
     "name": "stdout",
     "output_type": "stream",
     "text": [
      "<class 'int'>\n"
     ]
    }
   ],
   "source": [
    "print(type(200))"
   ]
  },
  {
   "cell_type": "code",
   "execution_count": 16,
   "id": "7c30310f-fcfe-437f-b253-933335ebebcc",
   "metadata": {},
   "outputs": [
    {
     "name": "stdout",
     "output_type": "stream",
     "text": [
      "<class 'float'>\n"
     ]
    }
   ],
   "source": [
    "print(type(23.6))"
   ]
  },
  {
   "cell_type": "code",
   "execution_count": 17,
   "id": "aa17ddae-3f3b-4d39-aaaa-8866fdddfcbd",
   "metadata": {},
   "outputs": [
    {
     "name": "stdout",
     "output_type": "stream",
     "text": [
      "<class 'str'>\n"
     ]
    }
   ],
   "source": [
    "print(type(\"python programming fundamentals\"))"
   ]
  },
  {
   "cell_type": "code",
   "execution_count": 19,
   "id": "600eaa97-0b39-492e-8a17-a78afe6a3875",
   "metadata": {},
   "outputs": [
    {
     "name": "stdout",
     "output_type": "stream",
     "text": [
      "<class 'bool'>\n"
     ]
    }
   ],
   "source": [
    "print(type(True))"
   ]
  },
  {
   "cell_type": "markdown",
   "id": "d1772be7-15eb-442b-a044-eb42ab93b0e0",
   "metadata": {},
   "source": [
    "# VARIABLES"
   ]
  },
  {
   "cell_type": "code",
   "execution_count": 20,
   "id": "00b9d765-8bed-4a93-b94d-fff646747ae0",
   "metadata": {},
   "outputs": [],
   "source": [
    "course= \"data science and ai\""
   ]
  },
  {
   "cell_type": "code",
   "execution_count": 21,
   "id": "9e13b351-d9da-48f3-a7ae-6ac8f8270fef",
   "metadata": {},
   "outputs": [
    {
     "data": {
      "text/plain": [
       "'data science and ai'"
      ]
     },
     "execution_count": 21,
     "metadata": {},
     "output_type": "execute_result"
    }
   ],
   "source": [
    "course"
   ]
  },
  {
   "cell_type": "code",
   "execution_count": 22,
   "id": "74ebfbd7-6e7a-4ffd-ac9a-5ac477360e57",
   "metadata": {},
   "outputs": [],
   "source": [
    "course = \"python for ai\""
   ]
  },
  {
   "cell_type": "code",
   "execution_count": 23,
   "id": "7b0f6c96-9497-487b-b98e-2e7f07f2a48b",
   "metadata": {},
   "outputs": [
    {
     "data": {
      "text/plain": [
       "'python for ai'"
      ]
     },
     "execution_count": 23,
     "metadata": {},
     "output_type": "execute_result"
    }
   ],
   "source": [
    "course"
   ]
  },
  {
   "cell_type": "code",
   "execution_count": 24,
   "id": "c10c1dc8-8b68-4538-874e-9f3c45a1cb71",
   "metadata": {},
   "outputs": [],
   "source": [
    "marks = 100"
   ]
  },
  {
   "cell_type": "code",
   "execution_count": 26,
   "id": "4d5d8c51-97a5-48b2-836f-d31bf30275eb",
   "metadata": {},
   "outputs": [
    {
     "name": "stdout",
     "output_type": "stream",
     "text": [
      "<class 'int'>\n"
     ]
    }
   ],
   "source": [
    "print(type(marks))"
   ]
  },
  {
   "cell_type": "code",
   "execution_count": null,
   "id": "1a0eff60-0d2f-4602-b0a9-87301a3f46d4",
   "metadata": {},
   "outputs": [],
   "source": [
    "iske baad kuch missiing h shayad variable naming"
   ]
  },
  {
   "cell_type": "markdown",
   "id": "607f31a9-6330-4e6f-9856-f582c7ca0884",
   "metadata": {},
   "source": [
    "# OPERATORS\n",
    "  - - (subtraction)\n",
    "  - + (addition)\n",
    "  - * (multiplication)\n",
    "  - / (division)\n",
    "  - // (division magar isme point k baad ki value nh batata)\n",
    "  - =  (equal to)\n",
    "  - !=  ( not equal to)\n",
    "  - ** (exponent power lete hn jese k 2*2=4)"
   ]
  },
  {
   "cell_type": "code",
   "execution_count": 1,
   "id": "9069c011-dcda-48d5-8f92-4afb1bbe16ed",
   "metadata": {},
   "outputs": [
    {
     "data": {
      "text/plain": [
       "10"
      ]
     },
     "execution_count": 1,
     "metadata": {},
     "output_type": "execute_result"
    }
   ],
   "source": [
    "4+6"
   ]
  },
  {
   "cell_type": "code",
   "execution_count": 2,
   "id": "b7c4aae1-317d-449b-a46c-1e247a56cdcb",
   "metadata": {},
   "outputs": [
    {
     "data": {
      "text/plain": [
       "-5"
      ]
     },
     "execution_count": 2,
     "metadata": {},
     "output_type": "execute_result"
    }
   ],
   "source": [
    "4-9"
   ]
  },
  {
   "cell_type": "code",
   "execution_count": 3,
   "id": "ae0ba183-f9eb-4798-82f3-a7aaae4d26fa",
   "metadata": {},
   "outputs": [
    {
     "data": {
      "text/plain": [
       "25"
      ]
     },
     "execution_count": 3,
     "metadata": {},
     "output_type": "execute_result"
    }
   ],
   "source": [
    "5*5"
   ]
  },
  {
   "cell_type": "code",
   "execution_count": 4,
   "id": "1c1653ff-c2cc-42f5-a5cd-6af4d680158a",
   "metadata": {},
   "outputs": [
    {
     "data": {
      "text/plain": [
       "3125"
      ]
     },
     "execution_count": 4,
     "metadata": {},
     "output_type": "execute_result"
    }
   ],
   "source": [
    "5**5"
   ]
  },
  {
   "cell_type": "code",
   "execution_count": 8,
   "id": "36e67ba6-29d3-4f7d-a399-b5e0545ffa2e",
   "metadata": {},
   "outputs": [
    {
     "data": {
      "text/plain": [
       "3.3333333333333335"
      ]
     },
     "execution_count": 8,
     "metadata": {},
     "output_type": "execute_result"
    }
   ],
   "source": [
    "#floating division\n",
    "10 / 3"
   ]
  },
  {
   "cell_type": "code",
   "execution_count": 10,
   "id": "31acb39a-46c5-4559-b020-62a40c7e9e68",
   "metadata": {},
   "outputs": [
    {
     "data": {
      "text/plain": [
       "3"
      ]
     },
     "execution_count": 10,
     "metadata": {},
     "output_type": "execute_result"
    }
   ],
   "source": [
    "#floor division and it is also called integer division\n",
    "10 // 3"
   ]
  },
  {
   "cell_type": "code",
   "execution_count": 11,
   "id": "a30b04c1-c110-427d-bed2-57cdbda0f853",
   "metadata": {},
   "outputs": [
    {
     "data": {
      "text/plain": [
       "2.0"
      ]
     },
     "execution_count": 11,
     "metadata": {},
     "output_type": "execute_result"
    }
   ],
   "source": [
    "  10.2 // 4"
   ]
  },
  {
   "cell_type": "markdown",
   "id": "07edcf39-cde6-4fd0-9d8c-32afa2082f71",
   "metadata": {},
   "source": [
    "# % MODULUS OPERATOR\n",
    "    - Remainder"
   ]
  },
  {
   "cell_type": "code",
   "execution_count": 13,
   "id": "008dc43b-a54b-4f84-9c2e-b1c472815e61",
   "metadata": {},
   "outputs": [
    {
     "data": {
      "text/plain": [
       "0"
      ]
     },
     "execution_count": 13,
     "metadata": {},
     "output_type": "execute_result"
    }
   ],
   "source": [
    "12%6"
   ]
  },
  {
   "cell_type": "code",
   "execution_count": 14,
   "id": "8835b433-9e14-4270-a493-8288cd1d38ef",
   "metadata": {},
   "outputs": [
    {
     "data": {
      "text/plain": [
       "5"
      ]
     },
     "execution_count": 14,
     "metadata": {},
     "output_type": "execute_result"
    }
   ],
   "source": [
    "12%7"
   ]
  },
  {
   "cell_type": "markdown",
   "id": "e91abf01-bd53-486b-9d5f-28f33236267d",
   "metadata": {},
   "source": [
    "# ASSIGNMNET OPERATORT"
   ]
  },
  {
   "cell_type": "code",
   "execution_count": 15,
   "id": "a563816a-ea16-4b72-b4fc-b2bbe8741447",
   "metadata": {},
   "outputs": [],
   "source": [
    "total = 120\n",
    "\n",
    "# a integer value 120 is assigned to a variable name total"
   ]
  },
  {
   "cell_type": "markdown",
   "id": "2c0199d9-2278-4036-96b2-ab3f693a20fe",
   "metadata": {},
   "source": [
    "# COMPARISION OPERATOR\n",
    "### - ==\n",
    "### - !=\n",
    "### - >\n",
    "### - <\n",
    "### - >=\n",
    "### - <=\n"
   ]
  },
  {
   "cell_type": "code",
   "execution_count": 16,
   "id": "ee07a0de-a161-47d8-be23-6bb6991d62a2",
   "metadata": {},
   "outputs": [],
   "source": [
    "marks = 100\n",
    "obtained = 67"
   ]
  },
  {
   "cell_type": "code",
   "execution_count": 17,
   "id": "3ecb3f5d-028c-4419-95b9-d62519b6ba2c",
   "metadata": {},
   "outputs": [
    {
     "data": {
      "text/plain": [
       "True"
      ]
     },
     "execution_count": 17,
     "metadata": {},
     "output_type": "execute_result"
    }
   ],
   "source": [
    "marks > obtained"
   ]
  },
  {
   "cell_type": "code",
   "execution_count": 18,
   "id": "04d0f494-fbe9-4332-bfd0-1bb3452a3e3f",
   "metadata": {},
   "outputs": [
    {
     "data": {
      "text/plain": [
       "False"
      ]
     },
     "execution_count": 18,
     "metadata": {},
     "output_type": "execute_result"
    }
   ],
   "source": [
    "marks < obtained"
   ]
  },
  {
   "cell_type": "code",
   "execution_count": 19,
   "id": "5cb4014f-42a6-4f4b-b725-3cae8c1007b3",
   "metadata": {},
   "outputs": [
    {
     "data": {
      "text/plain": [
       "True"
      ]
     },
     "execution_count": 19,
     "metadata": {},
     "output_type": "execute_result"
    }
   ],
   "source": [
    "marks >= obtained"
   ]
  },
  {
   "cell_type": "code",
   "execution_count": 20,
   "id": "f25a1398-b4a1-4f4d-a490-ecbc1a3f3dd7",
   "metadata": {},
   "outputs": [
    {
     "data": {
      "text/plain": [
       "False"
      ]
     },
     "execution_count": 20,
     "metadata": {},
     "output_type": "execute_result"
    }
   ],
   "source": [
    "marks <= obtained"
   ]
  },
  {
   "cell_type": "code",
   "execution_count": 21,
   "id": "49513a97-7260-48c4-b1dd-8e17125fc67e",
   "metadata": {},
   "outputs": [
    {
     "data": {
      "text/plain": [
       "False"
      ]
     },
     "execution_count": 21,
     "metadata": {},
     "output_type": "execute_result"
    }
   ],
   "source": [
    "marks == obtained"
   ]
  },
  {
   "cell_type": "code",
   "execution_count": 22,
   "id": "e46daa37-37cf-4981-9b07-8f7fa3806486",
   "metadata": {},
   "outputs": [
    {
     "data": {
      "text/plain": [
       "True"
      ]
     },
     "execution_count": 22,
     "metadata": {},
     "output_type": "execute_result"
    }
   ],
   "source": [
    "marks != obtained"
   ]
  },
  {
   "cell_type": "markdown",
   "id": "fc406e6f-8e61-4565-a340-55d9536183f8",
   "metadata": {},
   "source": [
    "# USER INPUT"
   ]
  },
  {
   "cell_type": "code",
   "execution_count": 24,
   "id": "fcd02091-6ea9-45cc-bfc6-48235922cc21",
   "metadata": {},
   "outputs": [
    {
     "name": "stdin",
     "output_type": "stream",
     "text": [
      "please tell me your age 12\n"
     ]
    },
    {
     "data": {
      "text/plain": [
       "'12'"
      ]
     },
     "execution_count": 24,
     "metadata": {},
     "output_type": "execute_result"
    }
   ],
   "source": [
    "input(\"please tell me your age\")"
   ]
  },
  {
   "cell_type": "code",
   "execution_count": 25,
   "id": "759fb720-1ebb-40b5-9bda-4f5a836d12f5",
   "metadata": {},
   "outputs": [
    {
     "name": "stdin",
     "output_type": "stream",
     "text": [
      "please tell me your age 120\n"
     ]
    }
   ],
   "source": [
    "age = input(\"please tell me your age\")"
   ]
  },
  {
   "cell_type": "code",
   "execution_count": 26,
   "id": "09bfba06-9e00-4866-8cba-3d9ad268f9f1",
   "metadata": {},
   "outputs": [
    {
     "data": {
      "text/plain": [
       "str"
      ]
     },
     "execution_count": 26,
     "metadata": {},
     "output_type": "execute_result"
    }
   ],
   "source": [
    "type(age)"
   ]
  },
  {
   "cell_type": "code",
   "execution_count": 27,
   "id": "846ae74e-a405-4d39-9de4-9bc95bd8b783",
   "metadata": {},
   "outputs": [
    {
     "ename": "TypeError",
     "evalue": "can only concatenate str (not \"int\") to str",
     "output_type": "error",
     "traceback": [
      "\u001b[1;31m---------------------------------------------------------------------------\u001b[0m",
      "\u001b[1;31mTypeError\u001b[0m                                 Traceback (most recent call last)",
      "Cell \u001b[1;32mIn[27], line 1\u001b[0m\n\u001b[1;32m----> 1\u001b[0m age \u001b[38;5;241m+\u001b[39m \u001b[38;5;241m10\u001b[39m\n",
      "\u001b[1;31mTypeError\u001b[0m: can only concatenate str (not \"int\") to str"
     ]
    }
   ],
   "source": [
    "age + 10"
   ]
  },
  {
   "cell_type": "markdown",
   "id": "803664a9-9d21-44d4-89b7-2cc102988b80",
   "metadata": {},
   "source": [
    "# TYPE CASTING"
   ]
  },
  {
   "cell_type": "code",
   "execution_count": 30,
   "id": "e263adf7-58b6-474d-bb75-7b94df136526",
   "metadata": {},
   "outputs": [
    {
     "data": {
      "text/plain": [
       "133"
      ]
     },
     "execution_count": 30,
     "metadata": {},
     "output_type": "execute_result"
    }
   ],
   "source": [
    "int(133.5)"
   ]
  },
  {
   "cell_type": "code",
   "execution_count": 31,
   "id": "fcca682b-c1d5-4c07-93c6-d0423a661705",
   "metadata": {},
   "outputs": [
    {
     "data": {
      "text/plain": [
       "12.0"
      ]
     },
     "execution_count": 31,
     "metadata": {},
     "output_type": "execute_result"
    }
   ],
   "source": [
    "float(12)"
   ]
  },
  {
   "cell_type": "code",
   "execution_count": 32,
   "id": "6ce0f2ef-5936-4678-8a4a-aaacc6c06183",
   "metadata": {},
   "outputs": [
    {
     "data": {
      "text/plain": [
       "100"
      ]
     },
     "execution_count": 32,
     "metadata": {},
     "output_type": "execute_result"
    }
   ],
   "source": [
    "int(\"100\")"
   ]
  },
  {
   "cell_type": "code",
   "execution_count": 33,
   "id": "c16c9649-cf0a-459a-aecd-985c29c71788",
   "metadata": {},
   "outputs": [
    {
     "data": {
      "text/plain": [
       "'100'"
      ]
     },
     "execution_count": 33,
     "metadata": {},
     "output_type": "execute_result"
    }
   ],
   "source": [
    "str(100)"
   ]
  },
  {
   "cell_type": "code",
   "execution_count": 34,
   "id": "c0c0102e-1f1d-4d7b-b57c-0273b1a1da57",
   "metadata": {},
   "outputs": [
    {
     "data": {
      "text/plain": [
       "45.6"
      ]
     },
     "execution_count": 34,
     "metadata": {},
     "output_type": "execute_result"
    }
   ],
   "source": [
    "float(\"45.6\")"
   ]
  },
  {
   "cell_type": "code",
   "execution_count": 35,
   "id": "773c138b-fe95-4517-931a-b02c90d1ac8f",
   "metadata": {},
   "outputs": [
    {
     "ename": "ValueError",
     "evalue": "invalid literal for int() with base 10: '45.6'",
     "output_type": "error",
     "traceback": [
      "\u001b[1;31m---------------------------------------------------------------------------\u001b[0m",
      "\u001b[1;31mValueError\u001b[0m                                Traceback (most recent call last)",
      "Cell \u001b[1;32mIn[35], line 1\u001b[0m\n\u001b[1;32m----> 1\u001b[0m \u001b[38;5;28mint\u001b[39m(\u001b[38;5;124m\"\u001b[39m\u001b[38;5;124m45.6\u001b[39m\u001b[38;5;124m\"\u001b[39m)\n",
      "\u001b[1;31mValueError\u001b[0m: invalid literal for int() with base 10: '45.6'"
     ]
    }
   ],
   "source": [
    "int(\"45.6\")"
   ]
  },
  {
   "cell_type": "code",
   "execution_count": 36,
   "id": "4d9585f7-cf2f-40c7-98a2-1c0b7a2559bb",
   "metadata": {},
   "outputs": [
    {
     "data": {
      "text/plain": [
       "45"
      ]
     },
     "execution_count": 36,
     "metadata": {},
     "output_type": "execute_result"
    }
   ],
   "source": [
    "int(float(\"45.6\"))"
   ]
  },
  {
   "cell_type": "code",
   "execution_count": 37,
   "id": "329ad695-26b4-4291-8631-735cb733d611",
   "metadata": {},
   "outputs": [
    {
     "name": "stdin",
     "output_type": "stream",
     "text": [
      "enter your age 45\n"
     ]
    },
    {
     "data": {
      "text/plain": [
       "55"
      ]
     },
     "execution_count": 37,
     "metadata": {},
     "output_type": "execute_result"
    }
   ],
   "source": [
    "age = int(input(\"enter your age\"))\n",
    "age + 10"
   ]
  },
  {
   "cell_type": "code",
   "execution_count": 38,
   "id": "5f01cca0-b22e-47f8-9b47-af493c550451",
   "metadata": {},
   "outputs": [
    {
     "data": {
      "text/plain": [
       "45"
      ]
     },
     "execution_count": 38,
     "metadata": {},
     "output_type": "execute_result"
    }
   ],
   "source": [
    "age"
   ]
  },
  {
   "cell_type": "code",
   "execution_count": 46,
   "id": "38f104b1-f9e5-41ed-a9a3-0719e9418d5c",
   "metadata": {},
   "outputs": [
    {
     "data": {
      "text/plain": [
       "115"
      ]
     },
     "execution_count": 46,
     "metadata": {},
     "output_type": "execute_result"
    }
   ],
   "source": [
    "age = age + 10\n",
    "age"
   ]
  },
  {
   "cell_type": "code",
   "execution_count": 47,
   "id": "7cca4eee-9c7e-476d-a5f1-346ae176fce4",
   "metadata": {},
   "outputs": [
    {
     "data": {
      "text/plain": [
       "115"
      ]
     },
     "execution_count": 47,
     "metadata": {},
     "output_type": "execute_result"
    }
   ],
   "source": [
    "age"
   ]
  },
  {
   "cell_type": "markdown",
   "id": "e723c279-241f-4042-af08-f7985e03f116",
   "metadata": {},
   "source": [
    "# INCREMENT OPERATOR / DECREMENT OPERATOR"
   ]
  },
  {
   "cell_type": "code",
   "execution_count": 54,
   "id": "7bf8441f-c123-4ac7-81f9-8820d3fd7f7f",
   "metadata": {},
   "outputs": [],
   "source": [
    "count =1"
   ]
  },
  {
   "cell_type": "code",
   "execution_count": 56,
   "id": "9dce664a-d6de-4604-9368-0eec0271e967",
   "metadata": {},
   "outputs": [
    {
     "data": {
      "text/plain": [
       "3"
      ]
     },
     "execution_count": 56,
     "metadata": {},
     "output_type": "execute_result"
    }
   ],
   "source": [
    "count = count +1\n",
    "count"
   ]
  },
  {
   "cell_type": "code",
   "execution_count": 57,
   "id": "3fefa60d-8df0-4b6c-b3d5-e276c508c38a",
   "metadata": {},
   "outputs": [
    {
     "data": {
      "text/plain": [
       "3"
      ]
     },
     "execution_count": 57,
     "metadata": {},
     "output_type": "execute_result"
    }
   ],
   "source": [
    "count"
   ]
  },
  {
   "cell_type": "code",
   "execution_count": 58,
   "id": "cd2a6bef-bdc6-4bfe-81ef-c8d88ef53bc4",
   "metadata": {},
   "outputs": [],
   "source": [
    "#ek or shortcut tareekah bh hai"
   ]
  },
  {
   "cell_type": "code",
   "execution_count": 66,
   "id": "3ded9c66-3fed-40ff-901e-3b4c1fd0e4a0",
   "metadata": {},
   "outputs": [
    {
     "data": {
      "text/plain": [
       "5"
      ]
     },
     "execution_count": 66,
     "metadata": {},
     "output_type": "execute_result"
    }
   ],
   "source": [
    "count +=5\n",
    "count"
   ]
  },
  {
   "cell_type": "code",
   "execution_count": 67,
   "id": "ef4ddbdc-9e46-4955-a91e-53d8e2ed9077",
   "metadata": {},
   "outputs": [
    {
     "data": {
      "text/plain": [
       "5"
      ]
     },
     "execution_count": 67,
     "metadata": {},
     "output_type": "execute_result"
    }
   ],
   "source": [
    "count"
   ]
  },
  {
   "cell_type": "code",
   "execution_count": 68,
   "id": "602049f6-fc79-44a7-8e29-cc8e394f7b4f",
   "metadata": {},
   "outputs": [
    {
     "data": {
      "text/plain": [
       "0"
      ]
     },
     "execution_count": 68,
     "metadata": {},
     "output_type": "execute_result"
    }
   ],
   "source": [
    "count -=5\n",
    "count"
   ]
  },
  {
   "cell_type": "markdown",
   "id": "75b90c25-8596-4080-9796-6a63ecc2771d",
   "metadata": {},
   "source": [
    "# ASSIGNMENT  "
   ]
  },
  {
   "cell_type": "code",
   "execution_count": null,
   "id": "797559c8-6058-410f-a00c-937dde8f3106",
   "metadata": {},
   "outputs": [],
   "source": [
    "Saad Hashmani an American Pakistani\n",
    "born on April 1, 1989 in Karachi"
   ]
  },
  {
   "cell_type": "code",
   "execution_count": 73,
   "id": "2495d4a1-bb8c-4c04-81ab-ed5c4a5021be",
   "metadata": {},
   "outputs": [
    {
     "ename": "TypeError",
     "evalue": "unsupported operand type(s) for -: 'int' and 'str'",
     "output_type": "error",
     "traceback": [
      "\u001b[1;31m---------------------------------------------------------------------------\u001b[0m",
      "\u001b[1;31mTypeError\u001b[0m                                 Traceback (most recent call last)",
      "Cell \u001b[1;32mIn[73], line 4\u001b[0m\n\u001b[0;32m      2\u001b[0m dob \u001b[38;5;241m=\u001b[39m \u001b[38;5;124m\"\u001b[39m\u001b[38;5;124m1989\u001b[39m\u001b[38;5;124m\"\u001b[39m\n\u001b[0;32m      3\u001b[0m citizenship \u001b[38;5;241m=\u001b[39m \u001b[38;5;124m\"\u001b[39m\u001b[38;5;124mamerican pakistani\u001b[39m\u001b[38;5;124m\"\u001b[39m\n\u001b[1;32m----> 4\u001b[0m age \u001b[38;5;241m=\u001b[39m \u001b[38;5;241m2024\u001b[39m\u001b[38;5;241m-\u001b[39m dob\n",
      "\u001b[1;31mTypeError\u001b[0m: unsupported operand type(s) for -: 'int' and 'str'"
     ]
    }
   ],
   "source": [
    "name = \"saad hashmani\"\n",
    "dob = \"1989\"\n",
    "citizenship = \"american pakistani\"\n",
    "age = 2024- dob\n"
   ]
  },
  {
   "cell_type": "code",
   "execution_count": null,
   "id": "05f78901-8307-4227-8c58-88b28a0b0a9e",
   "metadata": {},
   "outputs": [],
   "source": []
  }
 ],
 "metadata": {
  "kernelspec": {
   "display_name": "Python 3 (ipykernel)",
   "language": "python",
   "name": "python3"
  },
  "language_info": {
   "codemirror_mode": {
    "name": "ipython",
    "version": 3
   },
   "file_extension": ".py",
   "mimetype": "text/x-python",
   "name": "python",
   "nbconvert_exporter": "python",
   "pygments_lexer": "ipython3",
   "version": "3.12.7"
  }
 },
 "nbformat": 4,
 "nbformat_minor": 5
}
