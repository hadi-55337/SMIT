{
 "cells": [
  {
   "cell_type": "code",
   "execution_count": 3,
   "id": "aeecfa68-fae5-4244-bd22-57eb87130d80",
   "metadata": {},
   "outputs": [],
   "source": [
    "course = \"data sciences and ai\""
   ]
  },
  {
   "cell_type": "code",
   "execution_count": null,
   "id": "b2bdf4c8-67b8-4a9a-8974-14b2498c0b99",
   "metadata": {},
   "outputs": [],
   "source": []
  },
  {
   "cell_type": "code",
   "execution_count": 4,
   "id": "f328ba64-1472-4255-96d0-63dbae29958b",
   "metadata": {},
   "outputs": [
    {
     "name": "stdout",
     "output_type": "stream",
     "text": [
      "data sciences and ai\n"
     ]
    }
   ],
   "source": [
    "print(course)"
   ]
  },
  {
   "cell_type": "code",
   "execution_count": 14,
   "id": "09da721f-1f4c-47ff-a306-27f7cc93fa01",
   "metadata": {},
   "outputs": [],
   "source": [
    "print = \"data sciences and ai\" "
   ]
  },
  {
   "cell_type": "code",
   "execution_count": 5,
   "id": "4ccde522-a8c6-4b05-8c0c-c0008f59977b",
   "metadata": {},
   "outputs": [],
   "source": [
    "text = \"Imran Ahmed Khan Niazi is a Pakistani politician and former cricketer who served as the 22nd prime minister of Pakistan\""
   ]
  },
  {
   "cell_type": "code",
   "execution_count": 6,
   "id": "3c52555d-d024-4a66-9ac0-a84bcf405db9",
   "metadata": {},
   "outputs": [
    {
     "data": {
      "text/plain": [
       "True"
      ]
     },
     "execution_count": 6,
     "metadata": {},
     "output_type": "execute_result"
    }
   ],
   "source": [
    "text.endswith(\"n\")"
   ]
  },
  {
   "cell_type": "code",
   "execution_count": null,
   "id": "5daa81ab-1697-4f42-a522-d96c0ddae9d5",
   "metadata": {},
   "outputs": [],
   "source": []
  }
 ],
 "metadata": {
  "kernelspec": {
   "display_name": "Python 3 (ipykernel)",
   "language": "python",
   "name": "python3"
  },
  "language_info": {
   "codemirror_mode": {
    "name": "ipython",
    "version": 3
   },
   "file_extension": ".py",
   "mimetype": "text/x-python",
   "name": "python",
   "nbconvert_exporter": "python",
   "pygments_lexer": "ipython3",
   "version": "3.12.7"
  }
 },
 "nbformat": 4,
 "nbformat_minor": 5
}
