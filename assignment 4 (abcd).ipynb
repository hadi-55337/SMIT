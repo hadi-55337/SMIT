{
 "cells": [
  {
   "cell_type": "markdown",
   "id": "1a901de7-9a46-41a6-86cf-055529ae9ecb",
   "metadata": {},
   "source": [
    "# PART A: Conditional Structures"
   ]
  },
  {
   "cell_type": "code",
   "execution_count": 5,
   "id": "cb3c6828-c90b-43b9-91d5-7ed3c0c3a25d",
   "metadata": {},
   "outputs": [],
   "source": [
    "#1. Write a program that prompts the user to input a number and display if the number is even or odd."
   ]
  },
  {
   "cell_type": "code",
   "execution_count": 2,
   "id": "599df963-c98b-41ae-a078-8326c22aa345",
   "metadata": {},
   "outputs": [
    {
     "name": "stdin",
     "output_type": "stream",
     "text": [
      "Enter a number:  5\n"
     ]
    },
    {
     "name": "stdout",
     "output_type": "stream",
     "text": [
      "The number is odd.\n"
     ]
    }
   ],
   "source": [
    "# Question 1\n",
    "num = int(input(\"Enter a number: \"))\n",
    "if num % 2 == 0:\n",
    "    print(\"The number is even.\")\n",
    "else:\n",
    "    print(\"The number is odd.\")\n"
   ]
  },
  {
   "cell_type": "code",
   "execution_count": 6,
   "id": "0a061956-e64f-4abb-b40f-17744e7d8cbc",
   "metadata": {},
   "outputs": [],
   "source": [
    "# 2. Write a Python program that takes an age as input and determines whether a personis eligible to vote. If the age is 18 or above, print \"You are eligible to vote.\" Otherwise,print \"You are not eligible to vote yet.\"."
   ]
  },
  {
   "cell_type": "code",
   "execution_count": 7,
   "id": "589553f5-bafb-47cb-b04e-3d23f34d93d5",
   "metadata": {},
   "outputs": [
    {
     "name": "stdin",
     "output_type": "stream",
     "text": [
      "Enter your age:  19\n"
     ]
    },
    {
     "name": "stdout",
     "output_type": "stream",
     "text": [
      "You are eligible to vote.\n"
     ]
    }
   ],
   "source": [
    "# Question 2\n",
    "age = int(input(\"Enter your age: \"))\n",
    "if age >= 18:\n",
    "    print(\"You are eligible to vote.\")\n",
    "else:\n",
    "    print(\"You are not eligible to vote yet.\")\n"
   ]
  },
  {
   "cell_type": "code",
   "execution_count": 8,
   "id": "f79ec52e-9742-4be4-bd2e-3ef6912b0153",
   "metadata": {},
   "outputs": [],
   "source": [
    "# 3. Write a program that prompts the user to input two integers and outputs the largest."
   ]
  },
  {
   "cell_type": "code",
   "execution_count": 9,
   "id": "8dcee718-bccd-4c75-9c39-c99dd74b5a83",
   "metadata": {},
   "outputs": [
    {
     "name": "stdin",
     "output_type": "stream",
     "text": [
      "Enter the first number:  5\n",
      "Enter the second number:  2\n"
     ]
    },
    {
     "name": "stdout",
     "output_type": "stream",
     "text": [
      "The largest number is 5.\n"
     ]
    }
   ],
   "source": [
    "# Question 3\n",
    "num1 = int(input(\"Enter the first number: \"))\n",
    "num2 = int(input(\"Enter the second number: \"))\n",
    "if num1 > num2:\n",
    "    print(f\"The largest number is {num1}.\")\n",
    "else:\n",
    "    print(f\"The largest number is {num2}.\")\n"
   ]
  },
  {
   "cell_type": "code",
   "execution_count": 10,
   "id": "43d8238a-de63-4c22-925e-9fd91ded2433",
   "metadata": {},
   "outputs": [],
   "source": [
    "# 4. Write a program that prompts the user to enter a number and determines whether itis positive, negative, or zero. The program should print \"Positive\" if the number isgreater than 0, \"Negative\" if the number is less than 0, and \"Zero\" if the number is 0."
   ]
  },
  {
   "cell_type": "code",
   "execution_count": 13,
   "id": "780a6cda-97d1-40a0-8c9b-030955acfe38",
   "metadata": {},
   "outputs": [
    {
     "name": "stdin",
     "output_type": "stream",
     "text": [
      "Enter a number:  -2\n"
     ]
    },
    {
     "name": "stdout",
     "output_type": "stream",
     "text": [
      "Negative\n"
     ]
    }
   ],
   "source": [
    "# Question 4\n",
    "num = float(input(\"Enter a number: \"))\n",
    "if num > 0:\n",
    "    print(\"Positive\")\n",
    "elif num < 0:\n",
    "    print(\"Negative\")\n",
    "else:\n",
    "    print(\"Zero\")\n"
   ]
  },
  {
   "cell_type": "code",
   "execution_count": null,
   "id": "1b81f79b-e43d-4614-b030-5910a1430b80",
   "metadata": {},
   "outputs": [],
   "source": [
    "# 5"
   ]
  },
  {
   "cell_type": "code",
   "execution_count": 14,
   "id": "f6d51ee9-1ab3-49ea-8d8d-951d5ecde3ff",
   "metadata": {},
   "outputs": [
    {
     "name": "stdin",
     "output_type": "stream",
     "text": [
      "Enter your age:  20\n"
     ]
    },
    {
     "name": "stdout",
     "output_type": "stream",
     "text": [
      "Adult\n"
     ]
    }
   ],
   "source": [
    "# Question 5\n",
    "age = int(input(\"Enter your age: \"))\n",
    "if 0 <= age <= 12:\n",
    "    print(\"Child\")\n",
    "elif 13 <= age <= 19:\n",
    "    print(\"Teenager\")\n",
    "elif 20 <= age <= 59:\n",
    "    print(\"Adult\")\n",
    "else:\n",
    "    print(\"Senior Citizen\")\n"
   ]
  },
  {
   "cell_type": "code",
   "execution_count": 18,
   "id": "dea3cdd5-bb15-4bc6-bd09-80f5a313bf3a",
   "metadata": {},
   "outputs": [],
   "source": [
    "# 6"
   ]
  },
  {
   "cell_type": "code",
   "execution_count": 17,
   "id": "c5d56188-9ced-461d-95c1-6f14b15004e0",
   "metadata": {},
   "outputs": [
    {
     "name": "stdin",
     "output_type": "stream",
     "text": [
      "Enter a number between 1 and 7:  8\n"
     ]
    },
    {
     "name": "stdout",
     "output_type": "stream",
     "text": [
      "Error: Please enter a number between 1 and 7.\n"
     ]
    }
   ],
   "source": [
    "# Question 6\n",
    "day_num = int(input(\"Enter a number between 1 and 7: \"))\n",
    "if day_num == 1:\n",
    "    print(\"Sunday\")\n",
    "elif day_num == 2:\n",
    "    print(\"Monday\")\n",
    "elif day_num == 3:\n",
    "    print(\"Tuesday\")\n",
    "elif day_num == 4:\n",
    "    print(\"Wednesday\")\n",
    "elif day_num == 5:\n",
    "    print(\"Thursday\")\n",
    "elif day_num == 6:\n",
    "    print(\"Friday\")\n",
    "elif day_num == 7:\n",
    "    print(\"Saturday\")\n",
    "else:\n",
    "    print(\"Error: Please enter a number between 1 and 7.\")\n"
   ]
  },
  {
   "cell_type": "code",
   "execution_count": 19,
   "id": "e9eb8095-f93b-42c1-8d9f-1241d1a736cc",
   "metadata": {},
   "outputs": [],
   "source": [
    "# 7"
   ]
  },
  {
   "cell_type": "code",
   "execution_count": 20,
   "id": "4cd0a2d4-a4f7-4e96-af18-c00a36f19ae8",
   "metadata": {},
   "outputs": [
    {
     "name": "stdin",
     "output_type": "stream",
     "text": [
      "Enter your weight in kilograms:  65\n",
      "Enter your height in meters:  5.4\n"
     ]
    },
    {
     "name": "stdout",
     "output_type": "stream",
     "text": [
      "Underweight\n"
     ]
    }
   ],
   "source": [
    "# Question 7\n",
    "weight = float(input(\"Enter your weight in kilograms: \"))\n",
    "height = float(input(\"Enter your height in meters: \"))\n",
    "bmi = weight / (height * height)\n",
    "\n",
    "if bmi < 18.5:\n",
    "    print(\"Underweight\")\n",
    "elif 18.5 <= bmi < 24.9:\n",
    "    print(\"Normal weight\")\n",
    "elif 25 <= bmi < 29.9:\n",
    "    print(\"Overweight\")\n",
    "else:\n",
    "    print(\"Obesity\")\n"
   ]
  },
  {
   "cell_type": "code",
   "execution_count": 21,
   "id": "9c70cbdd-6fd0-4343-aade-ff8bbb48e194",
   "metadata": {},
   "outputs": [],
   "source": [
    "# 8"
   ]
  },
  {
   "cell_type": "code",
   "execution_count": 23,
   "id": "6fb46dda-a6c4-4c2d-83e0-62bab9bedbd0",
   "metadata": {},
   "outputs": [
    {
     "name": "stdin",
     "output_type": "stream",
     "text": [
      "Enter marks for subject 1:  89\n",
      "Enter marks for subject 2:  95\n",
      "Enter marks for subject 3:  76\n"
     ]
    },
    {
     "name": "stdout",
     "output_type": "stream",
     "text": [
      "Grade B\n"
     ]
    }
   ],
   "source": [
    "# Question 8\n",
    "marks1 = float(input(\"Enter marks for subject 1: \"))\n",
    "marks2 = float(input(\"Enter marks for subject 2: \"))\n",
    "marks3 = float(input(\"Enter marks for subject 3: \"))\n",
    "average = (marks1 + marks2 + marks3) / 3\n",
    "\n",
    "if 90 <= average <= 100:\n",
    "    print(\"Grade A\")\n",
    "elif 80 <= average < 90:\n",
    "    print(\"Grade B\")\n",
    "elif 70 <= average < 80:\n",
    "    print(\"Grade C\")\n",
    "elif 60 <= average < 70:\n",
    "    print(\"Grade D\")\n",
    "else:\n",
    "    print(\"Grade F\")\n"
   ]
  },
  {
   "cell_type": "code",
   "execution_count": 24,
   "id": "2002eac8-1e73-4ca9-8dff-afece860816b",
   "metadata": {},
   "outputs": [],
   "source": [
    "# 9"
   ]
  },
  {
   "cell_type": "code",
   "execution_count": 25,
   "id": "cf7374af-35c4-41ee-bc22-1fb076eb0dad",
   "metadata": {},
   "outputs": [],
   "source": [
    "# 10"
   ]
  },
  {
   "cell_type": "code",
   "execution_count": 26,
   "id": "9892be3b-86c6-48ff-99f0-ded2a878dff4",
   "metadata": {},
   "outputs": [
    {
     "name": "stdin",
     "output_type": "stream",
     "text": [
      "Enter the first number:  7\n",
      "Enter the second number:  9\n",
      "Enter the third number:  5\n"
     ]
    },
    {
     "name": "stdout",
     "output_type": "stream",
     "text": [
      "The sorted numbers are: [5.0, 7.0, 9.0]\n"
     ]
    }
   ],
   "source": [
    "# Question 10\n",
    "num1 = float(input(\"Enter the first number: \"))\n",
    "num2 = float(input(\"Enter the second number: \"))\n",
    "num3 = float(input(\"Enter the third number: \"))\n",
    "\n",
    "# Sorting the numbers in ascending order\n",
    "numbers = [num1, num2, num3]\n",
    "numbers.sort()\n",
    "\n",
    "print(\"The sorted numbers are:\", numbers)\n"
   ]
  },
  {
   "cell_type": "code",
   "execution_count": 27,
   "id": "94c11568-08ab-4449-baf6-96fe60b26158",
   "metadata": {},
   "outputs": [],
   "source": [
    "# 11"
   ]
  },
  {
   "cell_type": "code",
   "execution_count": 28,
   "id": "40ce5ab0-5c04-499e-a91f-957f15b6d81f",
   "metadata": {},
   "outputs": [
    {
     "name": "stdin",
     "output_type": "stream",
     "text": [
      "Enter the first integer:  45\n",
      "Enter the second integer:  54\n",
      "Enter the third integer:  74\n"
     ]
    },
    {
     "name": "stdout",
     "output_type": "stream",
     "text": [
      "The largest number is: 74\n"
     ]
    }
   ],
   "source": [
    "# Question 11\n",
    "num1 = int(input(\"Enter the first integer: \"))\n",
    "num2 = int(input(\"Enter the second integer: \"))\n",
    "num3 = int(input(\"Enter the third integer: \"))\n",
    "\n",
    "# Finding the largest number\n",
    "largest = max(num1, num2, num3)\n",
    "\n",
    "print(f\"The largest number is: {largest}\")\n"
   ]
  },
  {
   "cell_type": "code",
   "execution_count": 29,
   "id": "68858e55-2f61-4884-8156-256648e38f83",
   "metadata": {},
   "outputs": [],
   "source": [
    "# 12"
   ]
  },
  {
   "cell_type": "code",
   "execution_count": 33,
   "id": "484000d0-7ebb-4e09-aa31-eddfc1c3a396",
   "metadata": {},
   "outputs": [
    {
     "name": "stdin",
     "output_type": "stream",
     "text": [
      "Enter a character:  spiderman\n"
     ]
    },
    {
     "name": "stdout",
     "output_type": "stream",
     "text": [
      "The character is a consonant.\n"
     ]
    }
   ],
   "source": [
    "# Question 12\n",
    "char = input(\"Enter a character: \").lower()\n",
    "\n",
    "if char in 'aeiou':\n",
    "    print(\"The character is a vowel.\")\n",
    "else:\n",
    "    print(\"The character is a consonant.\")\n"
   ]
  },
  {
   "cell_type": "code",
   "execution_count": 34,
   "id": "b92c8c4d-4141-493f-a6fe-d3c50db49b01",
   "metadata": {},
   "outputs": [],
   "source": [
    "# 13"
   ]
  },
  {
   "cell_type": "code",
   "execution_count": 36,
   "id": "9dc9f5a4-08ba-47ae-9eec-99d6b954a3f3",
   "metadata": {},
   "outputs": [
    {
     "name": "stdin",
     "output_type": "stream",
     "text": [
      "Enter a year:  2024\n"
     ]
    },
    {
     "name": "stdout",
     "output_type": "stream",
     "text": [
      "2024 is a Leap Year.\n"
     ]
    }
   ],
   "source": [
    "# Question 13\n",
    "year = int(input(\"Enter a year: \"))\n",
    "\n",
    "# Check if the year is a leap year\n",
    "if (year % 4 == 0 and year % 100 != 0) or (year % 400 == 0):\n",
    "    print(f\"{year} is a Leap Year.\")\n",
    "else:\n",
    "    print(f\"{year} is NOT a Leap Year.\")\n"
   ]
  },
  {
   "cell_type": "code",
   "execution_count": 37,
   "id": "96ac1d11-3ea1-4eb7-ab69-ded7cfc10962",
   "metadata": {},
   "outputs": [],
   "source": [
    "# 14"
   ]
  },
  {
   "cell_type": "code",
   "execution_count": 39,
   "id": "d3beb58f-a017-4375-818b-72268723693c",
   "metadata": {},
   "outputs": [
    {
     "name": "stdin",
     "output_type": "stream",
     "text": [
      "Enter the number of calls made in a month:  7\n"
     ]
    },
    {
     "name": "stdout",
     "output_type": "stream",
     "text": [
      "Your total telephone bill for 7 calls is: Rs. 200.00\n"
     ]
    }
   ],
   "source": [
    "# Question 14\n",
    "calls = int(input(\"Enter the number of calls made in a month: \"))\n",
    "\n",
    "# Base cost for up to 100 calls\n",
    "bill = 200\n",
    "\n",
    "if calls > 100 and calls <= 150:\n",
    "    bill += (calls - 100) * 0.60\n",
    "elif calls > 150 and calls <= 200:\n",
    "    bill += (50 * 0.60) + (calls - 150) * 0.50\n",
    "elif calls > 200:\n",
    "    bill += (50 * 0.60) + (50 * 0.50) + (calls - 200) * 0.40\n",
    "\n",
    "print(f\"Your total telephone bill for {calls} calls is: Rs. {bill:.2f}\")\n"
   ]
  },
  {
   "cell_type": "markdown",
   "id": "a294e9cb-3739-4d6e-9e33-5ea0a6dea05d",
   "metadata": {},
   "source": [
    "# PART B : Looping Structures"
   ]
  },
  {
   "cell_type": "code",
   "execution_count": 40,
   "id": "5dad5ac7-b6bd-4a3b-ac04-7c6e090f9954",
   "metadata": {},
   "outputs": [
    {
     "name": "stdout",
     "output_type": "stream",
     "text": [
      "1\n",
      "2\n",
      "3\n",
      "4\n",
      "5\n",
      "6\n",
      "7\n",
      "8\n",
      "9\n",
      "10\n"
     ]
    }
   ],
   "source": [
    "# Question 1\n",
    "for i in range(1, 11):\n",
    "    print(i)\n"
   ]
  },
  {
   "cell_type": "code",
   "execution_count": 41,
   "id": "c6719327-7786-458b-af57-ff7d0a2160da",
   "metadata": {},
   "outputs": [
    {
     "name": "stdout",
     "output_type": "stream",
     "text": [
      "20\n",
      "19\n",
      "18\n",
      "17\n",
      "16\n",
      "15\n",
      "14\n",
      "13\n",
      "12\n",
      "11\n",
      "10\n",
      "9\n",
      "8\n",
      "7\n",
      "6\n",
      "5\n",
      "4\n",
      "3\n",
      "2\n",
      "1\n"
     ]
    }
   ],
   "source": [
    "# Question 2\n",
    "num = 20\n",
    "while num >= 1:\n",
    "    print(num)\n",
    "    num -= 1\n",
    "\n"
   ]
  },
  {
   "cell_type": "code",
   "execution_count": 42,
   "id": "941fa3d3-a621-4694-937b-962f3a88461e",
   "metadata": {},
   "outputs": [
    {
     "name": "stdout",
     "output_type": "stream",
     "text": [
      "2\n",
      "4\n",
      "6\n",
      "8\n",
      "10\n"
     ]
    }
   ],
   "source": [
    "# Question 3\n",
    "for i in range(1, 11):\n",
    "    if i % 2 == 0:\n",
    "        print(i)\n"
   ]
  },
  {
   "cell_type": "code",
   "execution_count": 43,
   "id": "73f95e3b-c7dd-45d6-b49a-afc47e0feb7f",
   "metadata": {},
   "outputs": [
    {
     "name": "stdin",
     "output_type": "stream",
     "text": [
      "Enter a number:  6\n"
     ]
    },
    {
     "name": "stdout",
     "output_type": "stream",
     "text": [
      "1\n",
      "2\n",
      "3\n",
      "4\n",
      "5\n",
      "6\n"
     ]
    }
   ],
   "source": [
    "# Question 4\n",
    "n = int(input(\"Enter a number: \"))\n",
    "\n",
    "for i in range(1, n + 1):\n",
    "    print(i)\n"
   ]
  },
  {
   "cell_type": "code",
   "execution_count": 44,
   "id": "30b01916-277e-4436-83ec-efc855a17d1b",
   "metadata": {},
   "outputs": [
    {
     "name": "stdin",
     "output_type": "stream",
     "text": [
      "Enter a number:  7\n"
     ]
    },
    {
     "name": "stdout",
     "output_type": "stream",
     "text": [
      "1\n",
      "3\n",
      "5\n",
      "7\n"
     ]
    }
   ],
   "source": [
    "# Question 5\n",
    "n = int(input(\"Enter a number: \"))\n",
    "\n",
    "for i in range(1, n + 1):\n",
    "    if i % 2 != 0:\n",
    "        print(i)\n"
   ]
  },
  {
   "cell_type": "code",
   "execution_count": 45,
   "id": "896b1449-8d59-4b78-bddf-1e81a24e8fe6",
   "metadata": {},
   "outputs": [
    {
     "name": "stdout",
     "output_type": "stream",
     "text": [
      "Happy Birthday!\n",
      "Happy Birthday!\n",
      "Happy Birthday!\n",
      "Happy Birthday!\n",
      "Happy Birthday!\n"
     ]
    }
   ],
   "source": [
    "# Question 6\n",
    "for _ in range(5):\n",
    "    print(\"Happy Birthday!\")\n"
   ]
  },
  {
   "cell_type": "code",
   "execution_count": 46,
   "id": "df7fefb0-00aa-4663-8895-8b720571eb1e",
   "metadata": {},
   "outputs": [
    {
     "name": "stdin",
     "output_type": "stream",
     "text": [
      "Enter a number:  9\n"
     ]
    },
    {
     "name": "stdout",
     "output_type": "stream",
     "text": [
      "The first 9 terms of the series are:\n",
      "1 4 9 16 25 36 49 64 81 "
     ]
    }
   ],
   "source": [
    "# Question 7\n",
    "n = int(input(\"Enter a number: \"))\n",
    "\n",
    "print(f\"The first {n} terms of the series are:\")\n",
    "for i in range(1, n + 1):\n",
    "    print(i**2, end=\" \")\n"
   ]
  },
  {
   "cell_type": "code",
   "execution_count": 47,
   "id": "31a4e609-bc34-40cf-8da3-af93e62745f5",
   "metadata": {},
   "outputs": [
    {
     "name": "stdin",
     "output_type": "stream",
     "text": [
      "Enter a number:  3\n"
     ]
    },
    {
     "name": "stdout",
     "output_type": "stream",
     "text": [
      "Multiplication table of 3 is:\n",
      "3 x 1 = 3\n",
      "3 x 2 = 6\n",
      "3 x 3 = 9\n",
      "3 x 4 = 12\n",
      "3 x 5 = 15\n",
      "3 x 6 = 18\n",
      "3 x 7 = 21\n",
      "3 x 8 = 24\n",
      "3 x 9 = 27\n",
      "3 x 10 = 30\n"
     ]
    }
   ],
   "source": [
    "# Question 8\n",
    "num = int(input(\"Enter a number: \"))\n",
    "\n",
    "print(f\"Multiplication table of {num} is:\")\n",
    "for i in range(1, 11):\n",
    "    print(f\"{num} x {i} = {num * i}\")\n"
   ]
  },
  {
   "cell_type": "code",
   "execution_count": 48,
   "id": "b4f15940-47d6-4909-8afb-9b08f4085618",
   "metadata": {},
   "outputs": [
    {
     "name": "stdout",
     "output_type": "stream",
     "text": [
      "The first 8 terms of the arithmetic progression are:\n",
      "3 7 11 15 19 23 27 31 "
     ]
    }
   ],
   "source": [
    "# Question 9\n",
    "start = 3\n",
    "common_difference = 4\n",
    "terms = 8\n",
    "\n",
    "print(f\"The first {terms} terms of the arithmetic progression are:\")\n",
    "for i in range(terms):\n",
    "    print(start + i * common_difference, end=\" \")\n"
   ]
  },
  {
   "cell_type": "code",
   "execution_count": 49,
   "id": "434795a8-89bb-47f1-bdf0-65ad3910237a",
   "metadata": {},
   "outputs": [
    {
     "name": "stdout",
     "output_type": "stream",
     "text": [
      "The first 6 terms of the geometric sequence are:\n",
      "2 6 18 54 162 486 "
     ]
    }
   ],
   "source": [
    "# Question 10\n",
    "start = 2\n",
    "common_ratio = 3\n",
    "terms = 6\n",
    "\n",
    "print(f\"The first {terms} terms of the geometric sequence are:\")\n",
    "for i in range(terms):\n",
    "    print(start * (common_ratio ** i), end=\" \")\n"
   ]
  },
  {
   "cell_type": "code",
   "execution_count": 51,
   "id": "85241a6b-8010-4acb-9afb-4d46e9f42436",
   "metadata": {},
   "outputs": [
    {
     "name": "stdin",
     "output_type": "stream",
     "text": [
      "Enter a positive integer:  -9\n"
     ]
    },
    {
     "name": "stdout",
     "output_type": "stream",
     "text": [
      "Please enter a positive integer.\n"
     ]
    }
   ],
   "source": [
    "# Question 11\n",
    "n = int(input(\"Enter a positive integer: \"))\n",
    "\n",
    "if n > 0:\n",
    "    total_sum = sum(range(1, n + 1))\n",
    "    print(f\"The sum of all integers from 1 to {n} is: {total_sum}\")\n",
    "else:\n",
    "    print(\"Please enter a positive integer.\")\n"
   ]
  },
  {
   "cell_type": "code",
   "execution_count": 52,
   "id": "0fb87f10-790c-484e-99fc-4016b4585a5b",
   "metadata": {},
   "outputs": [
    {
     "name": "stdin",
     "output_type": "stream",
     "text": [
      "Enter a positive integer:  67\n"
     ]
    },
    {
     "name": "stdout",
     "output_type": "stream",
     "text": [
      "The sum of reciprocals from 1 to 67 is: 4.79\n"
     ]
    }
   ],
   "source": [
    "# Question 12\n",
    "N = int(input(\"Enter a positive integer: \"))\n",
    "\n",
    "if N > 0:\n",
    "    reciprocal_sum = 0\n",
    "    for i in range(1, N + 1):\n",
    "        reciprocal_sum += 1 / i\n",
    "    print(f\"The sum of reciprocals from 1 to {N} is: {reciprocal_sum:.2f}\")\n",
    "else:\n",
    "    print(\"Please enter a positive integer.\")\n"
   ]
  },
  {
   "cell_type": "code",
   "execution_count": 53,
   "id": "4f20612e-ea3e-4a36-9d25-0e80e183eb03",
   "metadata": {},
   "outputs": [
    {
     "name": "stdin",
     "output_type": "stream",
     "text": [
      "Enter a number:  8\n",
      "Enter a number:  6\n",
      "Enter a number:  5\n",
      "Enter a number:  4\n",
      "Enter a number:  2\n"
     ]
    },
    {
     "name": "stdout",
     "output_type": "stream",
     "text": [
      "The final running total is: 25\n"
     ]
    }
   ],
   "source": [
    "# Question 13\n",
    "total = 0\n",
    "\n",
    "for _ in range(5):\n",
    "    num = int(input(\"Enter a number: \"))\n",
    "    total += num\n",
    "\n",
    "print(f\"The final running total is: {total}\")\n"
   ]
  },
  {
   "cell_type": "code",
   "execution_count": 54,
   "id": "34f9739d-d4ad-44a0-898d-5423c4d1b04e",
   "metadata": {},
   "outputs": [
    {
     "name": "stdin",
     "output_type": "stream",
     "text": [
      "Enter a positive integer:  55\n"
     ]
    },
    {
     "name": "stdout",
     "output_type": "stream",
     "text": [
      "The factorial of 55 is: 12696403353658275925965100847566516959580321051449436762275840000000000000\n"
     ]
    }
   ],
   "source": [
    "# Question 14\n",
    "n = int(input(\"Enter a positive integer: \"))\n",
    "\n",
    "if n < 0:\n",
    "    print(\"Factorial does not exist for negative numbers.\")\n",
    "elif n == 0:\n",
    "    print(\"The factorial of 0 is 1.\")\n",
    "else:\n",
    "    factorial = 1\n",
    "    for i in range(1, n + 1):\n",
    "        factorial *= i\n",
    "    print(f\"The factorial of {n} is: {factorial}\")\n"
   ]
  },
  {
   "cell_type": "code",
   "execution_count": 1,
   "id": "6fe03f44-e7b0-4e44-8e3a-d718ef6d63ab",
   "metadata": {},
   "outputs": [
    {
     "name": "stdin",
     "output_type": "stream",
     "text": [
      "Enter the base number:  56\n",
      "Enter the exponent:  45\n"
     ]
    },
    {
     "name": "stdout",
     "output_type": "stream",
     "text": [
      "56.0 raised to the power of 45 is: 4.660808027410507e+78\n"
     ]
    }
   ],
   "source": [
    "# Question 15\n",
    "base = float(input(\"Enter the base number: \"))\n",
    "exponent = int(input(\"Enter the exponent: \"))\n",
    "\n",
    "# Handling positive exponent\n",
    "if exponent >= 0:\n",
    "    result = 1\n",
    "    for _ in range(exponent):\n",
    "        result *= base\n",
    "    print(f\"{base} raised to the power of {exponent} is: {result}\")\n",
    "\n",
    "# Handling negative exponent\n",
    "else:\n",
    "    result = 1\n",
    "    for _ in range(abs(exponent)):\n",
    "        result *= base\n",
    "    result = 1 / result\n",
    "    print(f\"{base} raised to the power of {exponent} is: {result}\")\n"
   ]
  },
  {
   "cell_type": "code",
   "execution_count": null,
   "id": "159be80f-c429-40b5-816c-523cba5a64b6",
   "metadata": {},
   "outputs": [],
   "source": []
  },
  {
   "cell_type": "markdown",
   "id": "cfa748e5-75e0-42de-8686-1d3990e312c8",
   "metadata": {},
   "source": [
    "# PART C : List Assignment"
   ]
  },
  {
   "cell_type": "code",
   "execution_count": 5,
   "id": "135d790d-025c-4b0a-abbf-70e7157315cd",
   "metadata": {},
   "outputs": [
    {
     "name": "stdin",
     "output_type": "stream",
     "text": [
      "Enter elements of the list, separated by spaces:  hadi1\n"
     ]
    },
    {
     "name": "stdout",
     "output_type": "stream",
     "text": [
      "Alternate elements of the list are: ['hadi1']\n"
     ]
    }
   ],
   "source": [
    "# Question 1\n",
    "user_input = input(\"Enter elements of the list, separated by spaces: \")\n",
    "user_list = user_input.split()\n",
    "\n",
    "# Printing alternate elements of the list\n",
    "alternate_elements = user_list[::2]  # Using slicing to get alternate elements\n",
    "\n",
    "print(\"Alternate elements of the list are:\", alternate_elements)\n"
   ]
  },
  {
   "cell_type": "code",
   "execution_count": 7,
   "id": "2b22cf06-d161-4481-83a0-6c874ff3c986",
   "metadata": {},
   "outputs": [
    {
     "name": "stdin",
     "output_type": "stream",
     "text": [
      "Enter elements of the list, separated by spaces:  765\n"
     ]
    },
    {
     "name": "stdout",
     "output_type": "stream",
     "text": [
      "Reversed list is: ['765']\n"
     ]
    }
   ],
   "source": [
    "# Question 2\n",
    "user_input = input(\"Enter elements of the list, separated by spaces: \")\n",
    "user_list = user_input.split()\n",
    "\n",
    "# Reversing the list manually using slicing\n",
    "reversed_list = user_list[::-1]\n",
    "\n",
    "print(\"Reversed list is:\", reversed_list)\n"
   ]
  },
  {
   "cell_type": "code",
   "execution_count": 12,
   "id": "0ab10e33-76c8-472f-9793-40a8b6c33b34",
   "metadata": {},
   "outputs": [
    {
     "name": "stdin",
     "output_type": "stream",
     "text": [
      "Enter elements of the list, separated by spaces:  12345\n"
     ]
    },
    {
     "name": "stdout",
     "output_type": "stream",
     "text": [
      "The largest number in the list is: 12345\n"
     ]
    }
   ],
   "source": [
    "# Question 3\n",
    "user_input = input(\"Enter elements of the list, separated by spaces: \")\n",
    "user_list = list(map(int, user_input.split()))\n",
    "\n",
    "# Initializing largest_number with the first element of the list\n",
    "largest_number = user_list[0]\n",
    "\n",
    "# Loop through the list to find the largest number\n",
    "for num in user_list:\n",
    "    if num > largest_number:\n",
    "        largest_number = num\n",
    "\n",
    "print(\"The largest number in the list is:\", largest_number)\n"
   ]
  },
  {
   "cell_type": "code",
   "execution_count": 13,
   "id": "7004977c-0718-4562-bb6a-161132a042c8",
   "metadata": {},
   "outputs": [
    {
     "name": "stdin",
     "output_type": "stream",
     "text": [
      "Enter elements of the list, separated by spaces:  1 2 3 4 5\n"
     ]
    },
    {
     "name": "stdout",
     "output_type": "stream",
     "text": [
      "Rotated list is: ['2', '3', '4', '5', '1']\n"
     ]
    }
   ],
   "source": [
    "# Question 4\n",
    "user_input = input(\"Enter elements of the list, separated by spaces: \")\n",
    "user_list = user_input.split()\n",
    "\n",
    "# Rotating the list\n",
    "rotated_list = user_list[1:] + user_list[:1]\n",
    "\n",
    "print(\"Rotated list is:\", rotated_list)\n",
    "\n"
   ]
  },
  {
   "cell_type": "code",
   "execution_count": 14,
   "id": "5a75be03-f4db-44cb-92f7-996040ece2e9",
   "metadata": {},
   "outputs": [
    {
     "name": "stdin",
     "output_type": "stream",
     "text": [
      "Enter a string:  hello, this is a test string\n",
      "Enter the word to delete from the string:  test\n"
     ]
    },
    {
     "name": "stdout",
     "output_type": "stream",
     "text": [
      "Modified string is: hello, this is a  string\n"
     ]
    }
   ],
   "source": [
    "# Question 5\n",
    "user_string = input(\"Enter a string: \")\n",
    "word_to_delete = input(\"Enter the word to delete from the string: \")\n",
    "\n",
    "# Deleting the word from the string\n",
    "modified_string = user_string.replace(word_to_delete, \"\")\n",
    "\n",
    "print(\"Modified string is:\", modified_string)\n"
   ]
  },
  {
   "cell_type": "code",
   "execution_count": 15,
   "id": "3ed324fa-62a1-4429-8551-8855c42fe954",
   "metadata": {},
   "outputs": [
    {
     "name": "stdin",
     "output_type": "stream",
     "text": [
      "Enter a date in mm/dd/yyyy format:  03/12/2021\n"
     ]
    },
    {
     "name": "stdout",
     "output_type": "stream",
     "text": [
      "March 12, 2021\n"
     ]
    }
   ],
   "source": [
    "# Question 6\n",
    "date_input = input(\"Enter a date in mm/dd/yyyy format: \")\n",
    "\n",
    "# Splitting the input string into month, day, and year\n",
    "month, day, year = date_input.split(\"/\")\n",
    "\n",
    "# Month names mapping\n",
    "months = [\"January\", \"February\", \"March\", \"April\", \"May\", \"June\", \"July\", \"August\", \"September\", \"October\", \"November\", \"December\"]\n",
    "\n",
    "# Converting month number to month name\n",
    "month_name = months[int(month) - 1]\n",
    "\n",
    "# Displaying the date in the desired format\n",
    "print(f\"{month_name} {int(day)}, {year}\")\n",
    "\n"
   ]
  },
  {
   "cell_type": "code",
   "execution_count": 16,
   "id": "d3825f2d-be7c-4836-93d6-df9bb28c9f3e",
   "metadata": {},
   "outputs": [
    {
     "name": "stdin",
     "output_type": "stream",
     "text": [
      "Enter a sentence:  stop and smell the roses\n"
     ]
    },
    {
     "name": "stdout",
     "output_type": "stream",
     "text": [
      "Capitalized sentence: Stop And Smell The Roses\n"
     ]
    }
   ],
   "source": [
    "# Question 7\n",
    "\n",
    "# Function to capitalize each word in a sentence\n",
    "def capitalize_words(sentence):\n",
    "    # Splitting the sentence into words and capitalizing each word\n",
    "    return ' '.join(word.capitalize() for word in sentence.split())\n",
    "\n",
    "# Reading input from the user\n",
    "user_input = input(\"Enter a sentence: \")\n",
    "\n",
    "# Creating the new sentence with capitalized words\n",
    "capitalized_sentence = capitalize_words(user_input)\n",
    "\n",
    "print(\"Capitalized sentence:\", capitalized_sentence)\n"
   ]
  },
  {
   "cell_type": "code",
   "execution_count": 17,
   "id": "86660494-7c3a-45df-b254-f32272e69026",
   "metadata": {},
   "outputs": [
    {
     "name": "stdin",
     "output_type": "stream",
     "text": [
      "Enter the number of rows (n):  2\n",
      "Enter the number of columns (m):  3\n"
     ]
    },
    {
     "name": "stdout",
     "output_type": "stream",
     "text": [
      "Enter the elements of the first matrix:\n"
     ]
    },
    {
     "name": "stdin",
     "output_type": "stream",
     "text": [
      "Enter row 1:  1 2 3\n",
      "Enter row 2:  4 5 6\n"
     ]
    },
    {
     "name": "stdout",
     "output_type": "stream",
     "text": [
      "Enter the elements of the second matrix:\n"
     ]
    },
    {
     "name": "stdin",
     "output_type": "stream",
     "text": [
      "Enter row 1:  7 8 9\n",
      "Enter row 2:  10 11 12\n"
     ]
    },
    {
     "name": "stdout",
     "output_type": "stream",
     "text": [
      "The result of adding the two matrices is:\n",
      "[8, 10, 12]\n",
      "[14, 16, 18]\n"
     ]
    }
   ],
   "source": [
    "# Question 9\n",
    "\n",
    "# Function to add two matrices\n",
    "def add_matrices(matrix1, matrix2, n, m):\n",
    "    result = []\n",
    "    for i in range(n):\n",
    "        row = []\n",
    "        for j in range(m):\n",
    "            row.append(matrix1[i][j] + matrix2[i][j])\n",
    "        result.append(row)\n",
    "    return result\n",
    "\n",
    "# Reading matrix dimensions (n x m)\n",
    "n = int(input(\"Enter the number of rows (n): \"))\n",
    "m = int(input(\"Enter the number of columns (m): \"))\n",
    "\n",
    "# Reading the first matrix\n",
    "print(\"Enter the elements of the first matrix:\")\n",
    "matrix1 = []\n",
    "for i in range(n):\n",
    "    row = list(map(int, input(f\"Enter row {i + 1}: \").split()))\n",
    "    matrix1.append(row)\n",
    "\n",
    "# Reading the second matrix\n",
    "print(\"Enter the elements of the second matrix:\")\n",
    "matrix2 = []\n",
    "for i in range(n):\n",
    "    row = list(map(int, input(f\"Enter row {i + 1}: \").split()))\n",
    "    matrix2.append(row)\n",
    "\n",
    "# Adding the matrices\n",
    "result_matrix = add_matrices(matrix1, matrix2, n, m)\n",
    "\n",
    "# Displaying the result\n",
    "print(\"The result of adding the two matrices is:\")\n",
    "for row in result_matrix:\n",
    "    print(row)\n"
   ]
  },
  {
   "cell_type": "markdown",
   "id": "379263ad-b06a-4a76-8a01-cffb4d50cdec",
   "metadata": {},
   "source": [
    "# PART D : Strings Assignments"
   ]
  },
  {
   "cell_type": "code",
   "execution_count": 20,
   "id": "e08b05a1-b0d2-4314-a81b-24ed0e65f50f",
   "metadata": {},
   "outputs": [
    {
     "name": "stdin",
     "output_type": "stream",
     "text": [
      "Enter a string:  Hello, how are you?\n"
     ]
    },
    {
     "name": "stdout",
     "output_type": "stream",
     "text": [
      "The number of vowels in the string is: 7\n"
     ]
    }
   ],
   "source": [
    "# Question 1\n",
    "\n",
    "# Function to count vowels in a string\n",
    "def count_vowels(string):\n",
    "    vowels = \"aeiouAEIOU\"  # List of vowels (both uppercase and lowercase)\n",
    "    count = 0\n",
    "    for char in string:\n",
    "        if char in vowels:\n",
    "            count += 1\n",
    "    return count\n",
    "\n",
    "# Reading input string from the user\n",
    "user_input = input(\"Enter a string: \")\n",
    "\n",
    "# Counting vowels in the string\n",
    "vowel_count = count_vowels(user_input)\n",
    "\n",
    "print(f\"The number of vowels in the string is: {vowel_count}\")\n"
   ]
  },
  {
   "cell_type": "code",
   "execution_count": 21,
   "id": "2b03e528-ddc2-4321-8f38-81047c86d32b",
   "metadata": {},
   "outputs": [
    {
     "name": "stdin",
     "output_type": "stream",
     "text": [
      "Enter a string:  Hello World 123\n"
     ]
    },
    {
     "name": "stdout",
     "output_type": "stream",
     "text": [
      "Number of uppercase letters: 2\n",
      "Number of lowercase letters: 8\n",
      "Number of digits: 3\n",
      "Number of whitespace characters: 2\n"
     ]
    }
   ],
   "source": [
    "# Question 2\n",
    "\n",
    "# Function to count uppercase, lowercase, digits, and whitespaces\n",
    "def count_characters(string):\n",
    "    uppercase_count = 0\n",
    "    lowercase_count = 0\n",
    "    digit_count = 0\n",
    "    whitespace_count = 0\n",
    "    \n",
    "    for char in string:\n",
    "        if char.isupper():\n",
    "            uppercase_count += 1\n",
    "        elif char.islower():\n",
    "            lowercase_count += 1\n",
    "        elif char.isdigit():\n",
    "            digit_count += 1\n",
    "        elif char.isspace():\n",
    "            whitespace_count += 1\n",
    "            \n",
    "    return uppercase_count, lowercase_count, digit_count, whitespace_count\n",
    "\n",
    "# Reading input string from the user\n",
    "user_input = input(\"Enter a string: \")\n",
    "\n",
    "# Counting characters\n",
    "upper, lower, digits, whitespaces = count_characters(user_input)\n",
    "\n",
    "# Displaying the results\n",
    "print(f\"Number of uppercase letters: {upper}\")\n",
    "print(f\"Number of lowercase letters: {lower}\")\n",
    "print(f\"Number of digits: {digits}\")\n",
    "print(f\"Number of whitespace characters: {whitespaces}\")\n"
   ]
  },
  {
   "cell_type": "code",
   "execution_count": 22,
   "id": "6c3120b4-73c5-44d5-b76c-4474fd0ff4fd",
   "metadata": {},
   "outputs": [
    {
     "name": "stdin",
     "output_type": "stream",
     "text": [
      "Enter a string:  Hello\n"
     ]
    },
    {
     "name": "stdout",
     "output_type": "stream",
     "text": [
      "New string after swapping first and last characters: oellH\n"
     ]
    }
   ],
   "source": [
    "# Question 3\n",
    "\n",
    "# Function to swap first and last characters of a string\n",
    "def swap_first_last(string):\n",
    "    if len(string) > 1:  # Checking if the string has more than 1 character\n",
    "        # Swap first and last characters\n",
    "        new_string = string[-1] + string[1:-1] + string[0]\n",
    "    else:\n",
    "        new_string = string  # If the string is a single character, no swap needed\n",
    "    return new_string\n",
    "\n",
    "# Reading input string from the user\n",
    "user_input = input(\"Enter a string: \")\n",
    "\n",
    "# Swapping first and last characters\n",
    "swapped_string = swap_first_last(user_input)\n",
    "\n",
    "# Displaying the new string\n",
    "print(\"New string after swapping first and last characters:\", swapped_string)\n"
   ]
  },
  {
   "cell_type": "code",
   "execution_count": 23,
   "id": "9a5a2e9b-0742-4a62-bee0-4edd94fd2ffb",
   "metadata": {},
   "outputs": [
    {
     "name": "stdin",
     "output_type": "stream",
     "text": [
      "Enter a string:  Hello World\n"
     ]
    },
    {
     "name": "stdout",
     "output_type": "stream",
     "text": [
      "Reversed string: dlroW olleH\n"
     ]
    }
   ],
   "source": [
    "# Question 4\n",
    "\n",
    "# Function to reverse the string\n",
    "def reverse_string(string):\n",
    "    return string[::-1]  # Using slicing to reverse the string\n",
    "\n",
    "# Reading input string from the user\n",
    "user_input = input(\"Enter a string: \")\n",
    "\n",
    "# Reversing the string\n",
    "reversed_string = reverse_string(user_input)\n",
    "\n",
    "# Displaying the reversed string\n",
    "print(\"Reversed string:\", reversed_string)\n"
   ]
  },
  {
   "cell_type": "code",
   "execution_count": 24,
   "id": "54e5819b-9b27-452e-b6c2-a1dbd5df3497",
   "metadata": {},
   "outputs": [
    {
     "name": "stdin",
     "output_type": "stream",
     "text": [
      "Enter a string:  examination 2021\n"
     ]
    },
    {
     "name": "stdout",
     "output_type": "stream",
     "text": [
      "New string after shifting one position to left: xamination 2021e\n"
     ]
    }
   ],
   "source": [
    "# Question 5\n",
    "\n",
    "# Function to shift the string one position to the left\n",
    "def shift_left(string):\n",
    "    return string[1:] + string[0]  # Shifting the first character to the end\n",
    "\n",
    "# Reading input string from the user\n",
    "user_input = input(\"Enter a string: \")\n",
    "\n",
    "# Shifting the string\n",
    "shifted_string = shift_left(user_input)\n",
    "\n",
    "# Displaying the shifted string\n",
    "print(\"New string after shifting one position to left:\", shifted_string)\n"
   ]
  },
  {
   "cell_type": "code",
   "execution_count": 26,
   "id": "297a2521-432d-4138-9f9a-c2047912ed6e",
   "metadata": {},
   "outputs": [
    {
     "name": "stdin",
     "output_type": "stream",
     "text": [
      "Enter your full name (First, Middle, Last):  Ajay Kumar Garg\n"
     ]
    },
    {
     "name": "stdout",
     "output_type": "stream",
     "text": [
      "Your initials are: A. K. G.\n"
     ]
    }
   ],
   "source": [
    "# Question 6\n",
    "\n",
    "# Function to get the initials from the user's full name without using split()\n",
    "def get_initials(full_name):\n",
    "    initials = \"\"\n",
    "    i = 0\n",
    "    while i < len(full_name):\n",
    "        # Skip leading spaces\n",
    "        while i < len(full_name) and full_name[i] == ' ':\n",
    "            i += 1\n",
    "        # Get the first letter of each word\n",
    "        if i < len(full_name) and full_name[i].isalpha():\n",
    "            initials += full_name[i].upper() + \". \"\n",
    "            # Move to the next space\n",
    "            while i < len(full_name) and full_name[i] != ' ':\n",
    "                i += 1\n",
    "    return initials.strip()  # Removing the trailing space\n",
    "\n",
    "# Reading full name from the user\n",
    "user_input = input(\"Enter your full name (First, Middle, Last): \")\n",
    "\n",
    "# Getting initials\n",
    "initials = get_initials(user_input)\n",
    "\n",
    "# Displaying the initials\n",
    "print(\"Your initials are:\", initials)\n"
   ]
  },
  {
   "cell_type": "code",
   "execution_count": 27,
   "id": "91424ea4-e59e-4206-a6fc-836aef932b5e",
   "metadata": {},
   "outputs": [
    {
     "name": "stdin",
     "output_type": "stream",
     "text": [
      "Enter a string:  madam\n"
     ]
    },
    {
     "name": "stdout",
     "output_type": "stream",
     "text": [
      "'madam' is a palindrome.\n"
     ]
    }
   ],
   "source": [
    "# Question 7\n",
    "\n",
    "# Function to check if the string is a palindrome\n",
    "def is_palindrome(string):\n",
    "    # Manually checking if string is the same when reversed (without using reverse() method)\n",
    "    length = len(string)\n",
    "    for i in range(length // 2):\n",
    "        if string[i] != string[length - i - 1]:\n",
    "            return False\n",
    "    return True\n",
    "\n",
    "# Reading input string from the user\n",
    "user_input = input(\"Enter a string: \")\n",
    "\n",
    "# Checking if the string is a palindrome\n",
    "if is_palindrome(user_input):\n",
    "    print(f\"'{user_input}' is a palindrome.\")\n",
    "else:\n",
    "    print(f\"'{user_input}' is not a palindrome.\")\n"
   ]
  },
  {
   "cell_type": "code",
   "execution_count": 28,
   "id": "1a4dbddf-804a-4f3d-85bd-17d798d0fdc5",
   "metadata": {},
   "outputs": [
    {
     "name": "stdout",
     "output_type": "stream",
     "text": [
      "SHIFT\n",
      "HIFTS\n",
      "IFTSH\n",
      "FTSHI\n",
      "TSHIF\n"
     ]
    }
   ],
   "source": [
    "# Question 8\n",
    "\n",
    "# Function to generate the required output\n",
    "def display_shifted_string():\n",
    "    word = \"SHIFT\"\n",
    "    for i in range(len(word)):\n",
    "        shifted_word = word[i:] + word[:i]  # Shifting the string by i positions\n",
    "        print(shifted_word)\n",
    "\n",
    "# Calling the function to display the output\n",
    "display_shifted_string()\n"
   ]
  },
  {
   "cell_type": "code",
   "execution_count": 29,
   "id": "887a8187-db60-4738-8303-ec817949967f",
   "metadata": {},
   "outputs": [
    {
     "name": "stdin",
     "output_type": "stream",
     "text": [
      "Enter your password:  Password123\n"
     ]
    },
    {
     "name": "stdout",
     "output_type": "stream",
     "text": [
      "Password is valid!\n"
     ]
    }
   ],
   "source": [
    "# Question 9\n",
    "\n",
    "# Function to validate the password\n",
    "def validate_password(password):\n",
    "    # Check password length\n",
    "    if len(password) < 8:\n",
    "        return \"Password must be at least 8 characters long.\"\n",
    "    \n",
    "    # Check for at least one uppercase letter\n",
    "    if not any(char.isupper() for char in password):\n",
    "        return \"Password must contain at least one uppercase letter.\"\n",
    "    \n",
    "    # Check for at least one lowercase letter\n",
    "    if not any(char.islower() for char in password):\n",
    "        return \"Password must contain at least one lowercase letter.\"\n",
    "    \n",
    "    # Check for at least one numeric digit\n",
    "    if not any(char.isdigit() for char in password):\n",
    "        return \"Password must contain at least one numeric digit.\"\n",
    "    \n",
    "    return \"Password is valid!\"\n",
    "\n",
    "# Reading the password from the user\n",
    "user_input = input(\"Enter your password: \")\n",
    "\n",
    "# Validating the password\n",
    "validation_result = validate_password(user_input)\n",
    "\n",
    "# Displaying the validation result\n",
    "print(validation_result)\n"
   ]
  },
  {
   "cell_type": "code",
   "execution_count": null,
   "id": "dcccfbde-9d01-4ed6-9e19-7406eba44973",
   "metadata": {},
   "outputs": [],
   "source": []
  }
 ],
 "metadata": {
  "kernelspec": {
   "display_name": "Python 3 (ipykernel)",
   "language": "python",
   "name": "python3"
  },
  "language_info": {
   "codemirror_mode": {
    "name": "ipython",
    "version": 3
   },
   "file_extension": ".py",
   "mimetype": "text/x-python",
   "name": "python",
   "nbconvert_exporter": "python",
   "pygments_lexer": "ipython3",
   "version": "3.12.7"
  }
 },
 "nbformat": 4,
 "nbformat_minor": 5
}
