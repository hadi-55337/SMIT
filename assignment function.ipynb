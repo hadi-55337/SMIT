{
 "cells": [
  {
   "cell_type": "markdown",
   "id": "f8feaf91-5069-4c51-96dd-6a734a757d8d",
   "metadata": {},
   "source": [
    "# assignment function # part 1"
   ]
  },
  {
   "cell_type": "code",
   "execution_count": 2,
   "id": "099de7a6-d8b0-4764-aaf3-236e420eb627",
   "metadata": {},
   "outputs": [
    {
     "name": "stdin",
     "output_type": "stream",
     "text": [
      "Enter the first number:  10\n",
      "Enter the second number:  20\n",
      "Enter the third number:  30\n"
     ]
    },
    {
     "name": "stdout",
     "output_type": "stream",
     "text": [
      "The maximum of 10.0, 20.0, and 30.0 is: 30.0\n"
     ]
    }
   ],
   "source": [
    "# Question 1\n",
    "\n",
    "# Function to find the maximum of three numbers\n",
    "def find_maximum(num1, num2, num3):\n",
    "    return max(num1, num2, num3)\n",
    "\n",
    "# Reading three numbers from the user\n",
    "num1 = float(input(\"Enter the first number: \"))\n",
    "num2 = float(input(\"Enter the second number: \"))\n",
    "num3 = float(input(\"Enter the third number: \"))\n",
    "\n",
    "# Finding the maximum number\n",
    "maximum_number = find_maximum(num1, num2, num3)\n",
    "\n",
    "# Displaying the result\n",
    "print(f\"The maximum of {num1}, {num2}, and {num3} is: {maximum_number}\")\n"
   ]
  },
  {
   "cell_type": "code",
   "execution_count": 3,
   "id": "585ef3c6-d7dc-4445-a81e-e617d33f6354",
   "metadata": {},
   "outputs": [
    {
     "name": "stdout",
     "output_type": "stream",
     "text": [
      "The sum of the numbers in the list [8, 2, 3, 0, 7] is: 20\n"
     ]
    }
   ],
   "source": [
    "# Question 2\n",
    "\n",
    "# Function to sum all numbers in a list\n",
    "def sum_of_numbers(number_list):\n",
    "    return sum(number_list)\n",
    "\n",
    "# Sample list of numbers\n",
    "sample_list = [8, 2, 3, 0, 7]\n",
    "\n",
    "# Calculating the sum of the numbers\n",
    "total_sum = sum_of_numbers(sample_list)\n",
    "\n",
    "# Displaying the result\n",
    "print(f\"The sum of the numbers in the list {sample_list} is: {total_sum}\")\n"
   ]
  },
  {
   "cell_type": "code",
   "execution_count": 4,
   "id": "6b57ed91-72c1-4411-86c2-97e18e5fa56b",
   "metadata": {},
   "outputs": [
    {
     "name": "stdout",
     "output_type": "stream",
     "text": [
      "The product of the numbers in the list [8, 2, 3, -1, 7] is: -336\n"
     ]
    }
   ],
   "source": [
    "# Question 3\n",
    "\n",
    "# Function to multiply all numbers in a list\n",
    "def multiply_numbers(number_list):\n",
    "    result = 1\n",
    "    for num in number_list:\n",
    "        result *= num\n",
    "    return result\n",
    "\n",
    "# Sample list of numbers\n",
    "sample_list = [8, 2, 3, -1, 7]\n",
    "\n",
    "# Calculating the product of the numbers\n",
    "product = multiply_numbers(sample_list)\n",
    "\n",
    "# Displaying the result\n",
    "print(f\"The product of the numbers in the list {sample_list} is: {product}\")\n"
   ]
  },
  {
   "cell_type": "code",
   "execution_count": 5,
   "id": "f4af6c05-1857-4290-93b2-df803950c5d8",
   "metadata": {},
   "outputs": [
    {
     "name": "stdout",
     "output_type": "stream",
     "text": [
      "The reversed string of '1234abcd' is: dcba4321\n"
     ]
    }
   ],
   "source": [
    "# Question 4\n",
    "\n",
    "# Function to reverse a string\n",
    "def reverse_string(input_string):\n",
    "    return input_string[::-1]  # Slicing the string to reverse it\n",
    "\n",
    "# Sample string\n",
    "sample_string = \"1234abcd\"\n",
    "\n",
    "# Reversing the string\n",
    "reversed_string = reverse_string(sample_string)\n",
    "\n",
    "# Displaying the result\n",
    "print(f\"The reversed string of '{sample_string}' is: {reversed_string}\")\n"
   ]
  },
  {
   "cell_type": "code",
   "execution_count": 6,
   "id": "d2985104-632c-479e-a66b-d45fb7f0f7dd",
   "metadata": {},
   "outputs": [
    {
     "name": "stdin",
     "output_type": "stream",
     "text": [
      "Enter a non-negative integer:  5\n"
     ]
    },
    {
     "name": "stdout",
     "output_type": "stream",
     "text": [
      "The factorial of 5 is: 120\n"
     ]
    }
   ],
   "source": [
    "# Question 5\n",
    "\n",
    "# Function to calculate the factorial of a non-negative integer\n",
    "def factorial(number):\n",
    "    if number == 0 or number == 1:  # Base case: factorial of 0 or 1 is 1\n",
    "        return 1\n",
    "    else:\n",
    "        result = 1\n",
    "        for i in range(2, number + 1):\n",
    "            result *= i\n",
    "        return result\n",
    "\n",
    "# Reading a non-negative integer from the user\n",
    "user_input = int(input(\"Enter a non-negative integer: \"))\n",
    "\n",
    "# Calculating the factorial of the number\n",
    "fact_result = factorial(user_input)\n",
    "\n",
    "# Displaying the result\n",
    "print(f\"The factorial of {user_input} is: {fact_result}\")\n"
   ]
  },
  {
   "cell_type": "code",
   "execution_count": 7,
   "id": "481bcd05-a52a-4b5e-855c-adb138734867",
   "metadata": {},
   "outputs": [
    {
     "name": "stdin",
     "output_type": "stream",
     "text": [
      "Enter the number to check:  5\n",
      "Enter the lower bound of the range:  1\n",
      "Enter the upper bound of the range:  10\n"
     ]
    },
    {
     "name": "stdout",
     "output_type": "stream",
     "text": [
      "The number 5.0 is within the range 1.0 and 10.0.\n"
     ]
    }
   ],
   "source": [
    "# Question 6\n",
    "\n",
    "# Function to check if a number falls within a given range\n",
    "def is_within_range(number, lower_bound, upper_bound):\n",
    "    return lower_bound <= number <= upper_bound\n",
    "\n",
    "# Reading the number and range values from the user\n",
    "number = float(input(\"Enter the number to check: \"))\n",
    "lower_bound = float(input(\"Enter the lower bound of the range: \"))\n",
    "upper_bound = float(input(\"Enter the upper bound of the range: \"))\n",
    "\n",
    "# Checking if the number falls within the range\n",
    "if is_within_range(number, lower_bound, upper_bound):\n",
    "    print(f\"The number {number} is within the range {lower_bound} and {upper_bound}.\")\n",
    "else:\n",
    "    print(f\"The number {number} is not within the range {lower_bound} and {upper_bound}.\")\n"
   ]
  },
  {
   "cell_type": "code",
   "execution_count": 8,
   "id": "5cb3f2ae-51fb-415c-8466-880d56856088",
   "metadata": {},
   "outputs": [
    {
     "name": "stdout",
     "output_type": "stream",
     "text": [
      "No. of Upper case characters : 3\n",
      "No. of Lower case Characters : 12\n"
     ]
    }
   ],
   "source": [
    "# Question 7\n",
    "\n",
    "# Function to count the number of uppercase and lowercase letters in a string\n",
    "def count_case_letters(input_string):\n",
    "    upper_case_count = 0\n",
    "    lower_case_count = 0\n",
    "    \n",
    "    # Loop through the string and count uppercase and lowercase letters\n",
    "    for char in input_string:\n",
    "        if char.isupper():\n",
    "            upper_case_count += 1\n",
    "        elif char.islower():\n",
    "            lower_case_count += 1\n",
    "    \n",
    "    return upper_case_count, lower_case_count\n",
    "\n",
    "# Sample string\n",
    "sample_string = \"The quick Brow Fox\"\n",
    "\n",
    "# Counting uppercase and lowercase letters\n",
    "upper_case, lower_case = count_case_letters(sample_string)\n",
    "\n",
    "# Displaying the result\n",
    "print(f\"No. of Upper case characters : {upper_case}\")\n",
    "print(f\"No. of Lower case Characters : {lower_case}\")\n"
   ]
  },
  {
   "cell_type": "code",
   "execution_count": 9,
   "id": "83195c14-f99b-4dc6-87d5-3ba350bdcf95",
   "metadata": {},
   "outputs": [
    {
     "name": "stdout",
     "output_type": "stream",
     "text": [
      "Unique List : [1, 2, 3, 4, 5]\n"
     ]
    }
   ],
   "source": [
    "# Question 8\n",
    "\n",
    "# Function to return a list with distinct elements\n",
    "def get_unique_elements(input_list):\n",
    "    # Converting the list to a set and then back to a list to remove duplicates\n",
    "    return list(set(input_list))\n",
    "\n",
    "# Sample list\n",
    "sample_list = [1, 2, 3, 3, 3, 3, 4, 5]\n",
    "\n",
    "# Getting the unique elements\n",
    "unique_list = get_unique_elements(sample_list)\n",
    "\n",
    "# Displaying the result\n",
    "print(f\"Unique List : {unique_list}\")\n"
   ]
  },
  {
   "cell_type": "code",
   "execution_count": 10,
   "id": "9bf3d9f1-7e33-4a3e-b37f-0281c8868657",
   "metadata": {},
   "outputs": [
    {
     "name": "stdin",
     "output_type": "stream",
     "text": [
      "Enter a number to check if it is prime:  7\n"
     ]
    },
    {
     "name": "stdout",
     "output_type": "stream",
     "text": [
      "7 is a prime number.\n"
     ]
    }
   ],
   "source": [
    "# Question 9\n",
    "\n",
    "# Function to check whether a number is prime\n",
    "def is_prime(number):\n",
    "    # Check if the number is less than or equal to 1\n",
    "    if number <= 1:\n",
    "        return False\n",
    "    # Check for divisibility from 2 to the square root of the number\n",
    "    for i in range(2, int(number ** 0.5) + 1):\n",
    "        if number % i == 0:\n",
    "            return False\n",
    "    return True\n",
    "\n",
    "# Reading the number from the user\n",
    "number = int(input(\"Enter a number to check if it is prime: \"))\n",
    "\n",
    "# Checking if the number is prime\n",
    "if is_prime(number):\n",
    "    print(f\"{number} is a prime number.\")\n",
    "else:\n",
    "    print(f\"{number} is not a prime number.\")\n"
   ]
  },
  {
   "cell_type": "code",
   "execution_count": 11,
   "id": "57016266-5966-4b43-a8c7-f83e69819bb1",
   "metadata": {},
   "outputs": [
    {
     "name": "stdout",
     "output_type": "stream",
     "text": [
      "Even numbers in the list: [2, 4, 6, 8]\n"
     ]
    }
   ],
   "source": [
    "# Question 10\n",
    "\n",
    "# Function to filter even numbers from a list\n",
    "def filter_even_numbers(input_list):\n",
    "    return [num for num in input_list if num % 2 == 0]\n",
    "\n",
    "# Sample list\n",
    "sample_list = [1, 2, 3, 4, 5, 6, 7, 8, 9]\n",
    "\n",
    "# Getting the even numbers from the list\n",
    "even_numbers = filter_even_numbers(sample_list)\n",
    "\n",
    "# Displaying the result\n",
    "print(f\"Even numbers in the list: {even_numbers}\")\n"
   ]
  },
  {
   "cell_type": "code",
   "execution_count": 12,
   "id": "b554b309-b6c1-447b-98c0-4d2497a0bf78",
   "metadata": {},
   "outputs": [
    {
     "name": "stdin",
     "output_type": "stream",
     "text": [
      "Enter a number to check if it is perfect:  6\n"
     ]
    },
    {
     "name": "stdout",
     "output_type": "stream",
     "text": [
      "6 is a perfect number.\n"
     ]
    }
   ],
   "source": [
    "# Question 11\n",
    "\n",
    "# Function to check whether a number is perfect\n",
    "def is_perfect_number(number):\n",
    "    # Initialize sum of divisors\n",
    "    divisors_sum = 0\n",
    "    \n",
    "    # Loop through possible divisors (excluding the number itself)\n",
    "    for i in range(1, number):\n",
    "        if number % i == 0:\n",
    "            divisors_sum += i\n",
    "    \n",
    "    # Check if the sum of divisors is equal to the number\n",
    "    return divisors_sum == number\n",
    "\n",
    "# Reading the number from the user\n",
    "number = int(input(\"Enter a number to check if it is perfect: \"))\n",
    "\n",
    "# Checking if the number is perfect\n",
    "if is_perfect_number(number):\n",
    "    print(f\"{number} is a perfect number.\")\n",
    "else:\n",
    "    print(f\"{number} is not a perfect number.\")\n"
   ]
  },
  {
   "cell_type": "code",
   "execution_count": 13,
   "id": "432652a8-071a-49ef-865a-3bdd05a45c20",
   "metadata": {},
   "outputs": [
    {
     "name": "stdin",
     "output_type": "stream",
     "text": [
      "Enter a string to check if it is a palindrome:  madam\n"
     ]
    },
    {
     "name": "stdout",
     "output_type": "stream",
     "text": [
      "'madam' is a palindrome.\n"
     ]
    }
   ],
   "source": [
    "# Question 12\n",
    "\n",
    "# Function to check if a string is a palindrome\n",
    "def is_palindrome(input_string):\n",
    "    # Remove spaces and convert to lowercase for uniformity\n",
    "    input_string = input_string.replace(\" \", \"\").lower()\n",
    "    \n",
    "    # Check if the string is equal to its reverse\n",
    "    return input_string == input_string[::-1]\n",
    "\n",
    "# Reading the string from the user\n",
    "input_string = input(\"Enter a string to check if it is a palindrome: \")\n",
    "\n",
    "# Checking if the string is a palindrome\n",
    "if is_palindrome(input_string):\n",
    "    print(f\"'{input_string}' is a palindrome.\")\n",
    "else:\n",
    "    print(f\"'{input_string}' is not a palindrome.\")\n"
   ]
  },
  {
   "cell_type": "markdown",
   "id": "bc0dc954-6d80-4633-a2d7-10f0cc16765e",
   "metadata": {},
   "source": [
    "# assignment function # part 2"
   ]
  },
  {
   "cell_type": "raw",
   "id": "1d4e8f80-6b32-43b5-874d-646a1b1ab362",
   "metadata": {},
   "source": [
    "Task 1: Numbers divisible by 7 but not by 5 between 2000 and 3200"
   ]
  },
  {
   "cell_type": "code",
   "execution_count": 15,
   "id": "7bc23964-2e77-4d32-b0d9-1c7bf9f966fa",
   "metadata": {},
   "outputs": [
    {
     "name": "stdout",
     "output_type": "stream",
     "text": [
      "2002,2009,2016,2023,2037,2044,2051,2058,2072,2079,2086,2093,2107,2114,2121,2128,2142,2149,2156,2163,2177,2184,2191,2198,2212,2219,2226,2233,2247,2254,2261,2268,2282,2289,2296,2303,2317,2324,2331,2338,2352,2359,2366,2373,2387,2394,2401,2408,2422,2429,2436,2443,2457,2464,2471,2478,2492,2499,2506,2513,2527,2534,2541,2548,2562,2569,2576,2583,2597,2604,2611,2618,2632,2639,2646,2653,2667,2674,2681,2688,2702,2709,2716,2723,2737,2744,2751,2758,2772,2779,2786,2793,2807,2814,2821,2828,2842,2849,2856,2863,2877,2884,2891,2898,2912,2919,2926,2933,2947,2954,2961,2968,2982,2989,2996,3003,3017,3024,3031,3038,3052,3059,3066,3073,3087,3094,3101,3108,3122,3129,3136,3143,3157,3164,3171,3178,3192,3199\n"
     ]
    }
   ],
   "source": [
    "# Task 1\n",
    "def task1():\n",
    "    result = []\n",
    "    for num in range(2000, 3201):\n",
    "        if num % 7 == 0 and num % 5 != 0:\n",
    "            result.append(str(num))\n",
    "    print(\",\".join(result))\n",
    "\n",
    "task1()\n"
   ]
  },
  {
   "cell_type": "raw",
   "id": "ba352d30-6b31-4a5b-af79-eb34bf5f3d8e",
   "metadata": {},
   "source": [
    "Task 2: Calculate value according to the formula"
   ]
  },
  {
   "cell_type": "code",
   "execution_count": 19,
   "id": "eb3f013c-c0db-4751-bc98-ccc5f5832601",
   "metadata": {},
   "outputs": [
    {
     "name": "stdin",
     "output_type": "stream",
     "text": [
      "Enter comma-separated values for C:   100,150,180\n"
     ]
    },
    {
     "name": "stdout",
     "output_type": "stream",
     "text": [
      "5,4,4\n"
     ]
    }
   ],
   "source": [
    "# Task 2\n",
    "import math\n",
    "\n",
    "def task2():\n",
    "    A = 50\n",
    "    B = 30\n",
    "    # Get the values of C from user input\n",
    "    C_values = input(\"Enter comma-separated values for C: \").split(',')\n",
    "    result = []\n",
    "    for C in C_values:\n",
    "        C = int(C)  # Convert C to integer\n",
    "        P = math.sqrt((2 * A * B) / C)\n",
    "        result.append(str(int(P)))  # Convert result to int before appending\n",
    "    print(\",\".join(result))\n",
    "\n",
    "task2()\n"
   ]
  },
  {
   "cell_type": "raw",
   "id": "01eadaaf-79ee-4654-90fe-ffcfc4cfc7a5",
   "metadata": {},
   "source": [
    "Task 3: Sort words alphabetically"
   ]
  },
  {
   "cell_type": "code",
   "execution_count": 20,
   "id": "46d5b5b2-0630-46c1-98f3-26d88bcbc17f",
   "metadata": {},
   "outputs": [
    {
     "name": "stdin",
     "output_type": "stream",
     "text": [
      "Enter comma-separated words:  without,hello,bag,world\n"
     ]
    },
    {
     "name": "stdout",
     "output_type": "stream",
     "text": [
      "bag,hello,without,world\n"
     ]
    }
   ],
   "source": [
    "# Task 3\n",
    "def task3():\n",
    "    words = input(\"Enter comma-separated words: \").split(',')\n",
    "    words.sort()  # Sort the words alphabetically\n",
    "    print(\",\".join(words))\n",
    "\n",
    "task3()\n"
   ]
  },
  {
   "cell_type": "raw",
   "id": "edbb9ac0-63c0-4043-8d6c-660a665550c3",
   "metadata": {},
   "source": [
    "Task 4: Capitalize all characters in a sentence"
   ]
  },
  {
   "cell_type": "code",
   "execution_count": 21,
   "id": "f24c77ca-7e67-458c-8466-788dbb0195dc",
   "metadata": {},
   "outputs": [
    {
     "name": "stdin",
     "output_type": "stream",
     "text": [
      " Hello world\n"
     ]
    },
    {
     "name": "stdout",
     "output_type": "stream",
     "text": [
      "HELLO WORLD\n"
     ]
    },
    {
     "name": "stdin",
     "output_type": "stream",
     "text": [
      " ok\n"
     ]
    },
    {
     "name": "stdout",
     "output_type": "stream",
     "text": [
      "OK\n"
     ]
    },
    {
     "name": "stdin",
     "output_type": "stream",
     "text": [
      " exit\n"
     ]
    },
    {
     "name": "stdout",
     "output_type": "stream",
     "text": [
      "EXIT\n"
     ]
    },
    {
     "name": "stdin",
     "output_type": "stream",
     "text": [
      " \n"
     ]
    }
   ],
   "source": [
    "# Task 4\n",
    "def task4():\n",
    "    while True:\n",
    "        try:\n",
    "            line = input()  # Taking input line by line\n",
    "            if not line:  # If the line is empty, break the loop\n",
    "                break\n",
    "            print(line.upper())  # Print the line in uppercase\n",
    "        except EOFError:\n",
    "            break\n",
    "\n",
    "task4()\n"
   ]
  },
  {
   "cell_type": "raw",
   "id": "f88d35aa-da9a-47c7-a886-f73bef61956d",
   "metadata": {},
   "source": [
    "Task 5: Count vowels in a sentence"
   ]
  },
  {
   "cell_type": "code",
   "execution_count": 22,
   "id": "3d6584ec-c109-441d-b3d9-901060c11349",
   "metadata": {},
   "outputs": [
    {
     "name": "stdin",
     "output_type": "stream",
     "text": [
      "Enter a sentence:  Hello world\n"
     ]
    },
    {
     "name": "stdout",
     "output_type": "stream",
     "text": [
      "e appeared 1 times\n",
      "o appeared 2 times\n"
     ]
    }
   ],
   "source": [
    "# Task 5\n",
    "def task5():\n",
    "    sentence = input(\"Enter a sentence: \").lower()\n",
    "    vowels = \"aeiou\"\n",
    "    vowel_count = {vowel: sentence.count(vowel) for vowel in vowels}\n",
    "    \n",
    "    for vowel in vowels:\n",
    "        if vowel_count[vowel] > 0:\n",
    "            print(f\"{vowel} appeared {vowel_count[vowel]} times\")\n",
    "\n",
    "task5()\n"
   ]
  },
  {
   "cell_type": "raw",
   "id": "e159e638-fb33-4b7c-a8bd-3cf01b646899",
   "metadata": {},
   "source": [
    "Task 6: List numbers where all digits are even"
   ]
  },
  {
   "cell_type": "code",
   "execution_count": 23,
   "id": "aaee3fde-f0fd-41e9-8ebc-9f9d8153de89",
   "metadata": {},
   "outputs": [
    {
     "name": "stdout",
     "output_type": "stream",
     "text": [
      "2000,2002,2004,2006,2008,2020,2022,2024,2026,2028,2040,2042,2044,2046,2048,2060,2062,2064,2066,2068,2080,2082,2084,2086,2088,2200,2202,2204,2206,2208,2220,2222,2224,2226,2228,2240,2242,2244,2246,2248,2260,2262,2264,2266,2268,2280,2282,2284,2286,2288,2400,2402,2404,2406,2408,2420,2422,2424,2426,2428,2440,2442,2444,2446,2448,2460,2462,2464,2466,2468,2480,2482,2484,2486,2488,2600,2602,2604,2606,2608,2620,2622,2624,2626,2628,2640,2642,2644,2646,2648,2660,2662,2664,2666,2668,2680,2682,2684,2686,2688,2800,2802,2804,2806,2808,2820,2822,2824,2826,2828,2840,2842,2844,2846,2848,2860,2862,2864,2866,2868,2880,2882,2884,2886,2888\n"
     ]
    }
   ],
   "source": [
    "# Task 6\n",
    "def task6():\n",
    "    even_numbers = []\n",
    "    for num in range(1000, 3001):\n",
    "        if all(int(digit) % 2 == 0 for digit in str(num)):  # Check if all digits are even\n",
    "            even_numbers.append(str(num))\n",
    "    print(\",\".join(even_numbers))\n",
    "\n",
    "task6()\n"
   ]
  },
  {
   "cell_type": "raw",
   "id": "aa47526a-ebb9-47d5-af30-3977e051a0fd",
   "metadata": {},
   "source": [
    "Task 7: Check if binary numbers are divisible by 5"
   ]
  },
  {
   "cell_type": "code",
   "execution_count": 24,
   "id": "06171eff-4d43-4bc4-9463-438bab7a02e6",
   "metadata": {},
   "outputs": [
    {
     "name": "stdin",
     "output_type": "stream",
     "text": [
      "Enter comma-separated 4-digit binary numbers:  0100,0011,1010,1001\n"
     ]
    },
    {
     "name": "stdout",
     "output_type": "stream",
     "text": [
      "1010\n"
     ]
    }
   ],
   "source": [
    "# Task 7\n",
    "def task7():\n",
    "    binary_numbers = input(\"Enter comma-separated 4-digit binary numbers: \").split(',')\n",
    "    divisible_by_5 = []\n",
    "    for bin_num in binary_numbers:\n",
    "        decimal = int(bin_num, 2)  # Convert binary to decimal\n",
    "        if decimal % 5 == 0:\n",
    "            divisible_by_5.append(bin_num)\n",
    "    print(\",\".join(divisible_by_5))\n",
    "\n",
    "task7()\n"
   ]
  },
  {
   "cell_type": "raw",
   "id": "7fbbe164-1d10-4dc9-b2b2-e9c888601104",
   "metadata": {},
   "source": [
    "Task 8: Count letters and digits in a sentence"
   ]
  },
  {
   "cell_type": "code",
   "execution_count": 25,
   "id": "bf53a791-6cbf-4d4e-ba12-32114600342a",
   "metadata": {},
   "outputs": [
    {
     "name": "stdin",
     "output_type": "stream",
     "text": [
      "Enter a sentence:  hello world! 123\n"
     ]
    },
    {
     "name": "stdout",
     "output_type": "stream",
     "text": [
      "LETTERS 10\n",
      "DIGITS 3\n"
     ]
    }
   ],
   "source": [
    "# Task 8\n",
    "def task8():\n",
    "    sentence = input(\"Enter a sentence: \")\n",
    "    letters = sum(c.isalpha() for c in sentence)\n",
    "    digits = sum(c.isdigit() for c in sentence)\n",
    "    print(f\"LETTERS {letters}\")\n",
    "    print(f\"DIGITS {digits}\")\n",
    "\n",
    "task8()\n"
   ]
  },
  {
   "cell_type": "code",
   "execution_count": null,
   "id": "39280468-a4d0-47d8-846d-8e26749ca741",
   "metadata": {},
   "outputs": [],
   "source": []
  }
 ],
 "metadata": {
  "kernelspec": {
   "display_name": "Python 3 (ipykernel)",
   "language": "python",
   "name": "python3"
  },
  "language_info": {
   "codemirror_mode": {
    "name": "ipython",
    "version": 3
   },
   "file_extension": ".py",
   "mimetype": "text/x-python",
   "name": "python",
   "nbconvert_exporter": "python",
   "pygments_lexer": "ipython3",
   "version": "3.12.7"
  }
 },
 "nbformat": 4,
 "nbformat_minor": 5
}
